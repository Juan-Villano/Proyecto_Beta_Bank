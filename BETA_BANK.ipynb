{
 "cells": [
  {
   "cell_type": "markdown",
   "metadata": {},
   "source": [
    "## INTRODUCCIÓN\n",
    "\n",
    "Los clientes de Beta Bank estan desertando mes a mes, en este proceso los banqueros llegaron a la conclusion que es mas barato retener clientes que captar nuevos, por lo que la retención de clientes es crucial para mantener una base sólida y garantizar el crecimiento sostenible de la compañía. \n",
    "\n",
    "### Objetivos del Proyecto\n",
    "\n",
    "\n",
    "- Desarrollar un modelo de clasificación con la mayor precisión posible para predecir la deserción de clientes, este modelo ayudará al banco a identificar a los clientes en riesgo de abandonar y permitirá la implementación de estrategias de retención personalizadas.\n",
    "\n",
    "### Estructura del Proyecto\n",
    "\n",
    "\n",
    "- Carga e Importación de Datos: Importaremos y exploraremos los datos disponibles para comprender su estructura.\n",
    "- Análisis Exploratorio de Datos: Realizaremos un análisis detallado de los datos en busca de alguna posible anomalía.\n",
    "- segmentación de datos: Dividiremos los datos en conjunto de entrenamiento, validación y prueba.\n",
    "- Desarrollo y evaluación de los modelos: Desarrollaremos modelos y elegiremos el mejor basándonos en nuestro objetivo.\n",
    "- Conclusiones: Finalmente, daremos las conclusiones basándonos en lo que se encontró en el proyecto."
   ]
  },
  {
   "cell_type": "markdown",
   "metadata": {},
   "source": [
    "## Preparación y Carga de Datos"
   ]
  },
  {
   "cell_type": "markdown",
   "metadata": {},
   "source": [
    "Primero, vamos a cargar los datos y preparar el conjunto de datos para el análisis."
   ]
  },
  {
   "cell_type": "code",
   "execution_count": 32,
   "metadata": {},
   "outputs": [],
   "source": [
    "import pandas as pd\n",
    "import numpy as np\n",
    "from sklearn.model_selection import train_test_split\n",
    "from sklearn.preprocessing import StandardScaler, OrdinalEncoder\n",
    "from sklearn.linear_model import LogisticRegression\n",
    "from sklearn.tree import DecisionTreeClassifier\n",
    "from sklearn.metrics import f1_score, roc_auc_score, precision_score, recall_score, roc_curve\n",
    "from sklearn.utils import resample, shuffle\n",
    "import matplotlib.pyplot as plt\n",
    "from sklearn.ensemble import RandomForestClassifier\n",
    "import seaborn as sns"
   ]
  },
  {
   "cell_type": "code",
   "execution_count": 28,
   "metadata": {},
   "outputs": [],
   "source": [
    "# Cargar los datos\n",
    "data = pd.read_csv('datasets/Churn.csv')"
   ]
  },
  {
   "cell_type": "code",
   "execution_count": 29,
   "metadata": {},
   "outputs": [
    {
     "data": {
      "text/html": [
       "<div>\n",
       "<style scoped>\n",
       "    .dataframe tbody tr th:only-of-type {\n",
       "        vertical-align: middle;\n",
       "    }\n",
       "\n",
       "    .dataframe tbody tr th {\n",
       "        vertical-align: top;\n",
       "    }\n",
       "\n",
       "    .dataframe thead th {\n",
       "        text-align: right;\n",
       "    }\n",
       "</style>\n",
       "<table border=\"1\" class=\"dataframe\">\n",
       "  <thead>\n",
       "    <tr style=\"text-align: right;\">\n",
       "      <th></th>\n",
       "      <th>RowNumber</th>\n",
       "      <th>CustomerId</th>\n",
       "      <th>Surname</th>\n",
       "      <th>CreditScore</th>\n",
       "      <th>Geography</th>\n",
       "      <th>Gender</th>\n",
       "      <th>Age</th>\n",
       "      <th>Tenure</th>\n",
       "      <th>Balance</th>\n",
       "      <th>NumOfProducts</th>\n",
       "      <th>HasCrCard</th>\n",
       "      <th>IsActiveMember</th>\n",
       "      <th>EstimatedSalary</th>\n",
       "      <th>Exited</th>\n",
       "    </tr>\n",
       "  </thead>\n",
       "  <tbody>\n",
       "    <tr>\n",
       "      <th>0</th>\n",
       "      <td>1</td>\n",
       "      <td>15634602</td>\n",
       "      <td>Hargrave</td>\n",
       "      <td>619</td>\n",
       "      <td>France</td>\n",
       "      <td>Female</td>\n",
       "      <td>42</td>\n",
       "      <td>2.0</td>\n",
       "      <td>0.00</td>\n",
       "      <td>1</td>\n",
       "      <td>1</td>\n",
       "      <td>1</td>\n",
       "      <td>101348.88</td>\n",
       "      <td>1</td>\n",
       "    </tr>\n",
       "    <tr>\n",
       "      <th>1</th>\n",
       "      <td>2</td>\n",
       "      <td>15647311</td>\n",
       "      <td>Hill</td>\n",
       "      <td>608</td>\n",
       "      <td>Spain</td>\n",
       "      <td>Female</td>\n",
       "      <td>41</td>\n",
       "      <td>1.0</td>\n",
       "      <td>83807.86</td>\n",
       "      <td>1</td>\n",
       "      <td>0</td>\n",
       "      <td>1</td>\n",
       "      <td>112542.58</td>\n",
       "      <td>0</td>\n",
       "    </tr>\n",
       "    <tr>\n",
       "      <th>2</th>\n",
       "      <td>3</td>\n",
       "      <td>15619304</td>\n",
       "      <td>Onio</td>\n",
       "      <td>502</td>\n",
       "      <td>France</td>\n",
       "      <td>Female</td>\n",
       "      <td>42</td>\n",
       "      <td>8.0</td>\n",
       "      <td>159660.80</td>\n",
       "      <td>3</td>\n",
       "      <td>1</td>\n",
       "      <td>0</td>\n",
       "      <td>113931.57</td>\n",
       "      <td>1</td>\n",
       "    </tr>\n",
       "    <tr>\n",
       "      <th>3</th>\n",
       "      <td>4</td>\n",
       "      <td>15701354</td>\n",
       "      <td>Boni</td>\n",
       "      <td>699</td>\n",
       "      <td>France</td>\n",
       "      <td>Female</td>\n",
       "      <td>39</td>\n",
       "      <td>1.0</td>\n",
       "      <td>0.00</td>\n",
       "      <td>2</td>\n",
       "      <td>0</td>\n",
       "      <td>0</td>\n",
       "      <td>93826.63</td>\n",
       "      <td>0</td>\n",
       "    </tr>\n",
       "    <tr>\n",
       "      <th>4</th>\n",
       "      <td>5</td>\n",
       "      <td>15737888</td>\n",
       "      <td>Mitchell</td>\n",
       "      <td>850</td>\n",
       "      <td>Spain</td>\n",
       "      <td>Female</td>\n",
       "      <td>43</td>\n",
       "      <td>2.0</td>\n",
       "      <td>125510.82</td>\n",
       "      <td>1</td>\n",
       "      <td>1</td>\n",
       "      <td>1</td>\n",
       "      <td>79084.10</td>\n",
       "      <td>0</td>\n",
       "    </tr>\n",
       "  </tbody>\n",
       "</table>\n",
       "</div>"
      ],
      "text/plain": [
       "   RowNumber  CustomerId   Surname  CreditScore Geography  Gender  Age  \\\n",
       "0          1    15634602  Hargrave          619    France  Female   42   \n",
       "1          2    15647311      Hill          608     Spain  Female   41   \n",
       "2          3    15619304      Onio          502    France  Female   42   \n",
       "3          4    15701354      Boni          699    France  Female   39   \n",
       "4          5    15737888  Mitchell          850     Spain  Female   43   \n",
       "\n",
       "   Tenure    Balance  NumOfProducts  HasCrCard  IsActiveMember  \\\n",
       "0     2.0       0.00              1          1               1   \n",
       "1     1.0   83807.86              1          0               1   \n",
       "2     8.0  159660.80              3          1               0   \n",
       "3     1.0       0.00              2          0               0   \n",
       "4     2.0  125510.82              1          1               1   \n",
       "\n",
       "   EstimatedSalary  Exited  \n",
       "0        101348.88       1  \n",
       "1        112542.58       0  \n",
       "2        113931.57       1  \n",
       "3         93826.63       0  \n",
       "4         79084.10       0  "
      ]
     },
     "execution_count": 29,
     "metadata": {},
     "output_type": "execute_result"
    }
   ],
   "source": [
    "# Mostrar las primeras filas del conjunto de datos\n",
    "data.head()"
   ]
  },
  {
   "cell_type": "markdown",
   "metadata": {},
   "source": [
    "## Exploración de los Datos"
   ]
  },
  {
   "cell_type": "code",
   "execution_count": 30,
   "metadata": {},
   "outputs": [
    {
     "name": "stdout",
     "output_type": "stream",
     "text": [
      "<class 'pandas.core.frame.DataFrame'>\n",
      "RangeIndex: 10000 entries, 0 to 9999\n",
      "Data columns (total 14 columns):\n",
      " #   Column           Non-Null Count  Dtype  \n",
      "---  ------           --------------  -----  \n",
      " 0   RowNumber        10000 non-null  int64  \n",
      " 1   CustomerId       10000 non-null  int64  \n",
      " 2   Surname          10000 non-null  object \n",
      " 3   CreditScore      10000 non-null  int64  \n",
      " 4   Geography        10000 non-null  object \n",
      " 5   Gender           10000 non-null  object \n",
      " 6   Age              10000 non-null  int64  \n",
      " 7   Tenure           9091 non-null   float64\n",
      " 8   Balance          10000 non-null  float64\n",
      " 9   NumOfProducts    10000 non-null  int64  \n",
      " 10  HasCrCard        10000 non-null  int64  \n",
      " 11  IsActiveMember   10000 non-null  int64  \n",
      " 12  EstimatedSalary  10000 non-null  float64\n",
      " 13  Exited           10000 non-null  int64  \n",
      "dtypes: float64(3), int64(8), object(3)\n",
      "memory usage: 1.1+ MB\n",
      "None\n",
      "\n",
      "         RowNumber    CustomerId   CreditScore           Age       Tenure  \\\n",
      "count  10000.00000  1.000000e+04  10000.000000  10000.000000  9091.000000   \n",
      "mean    5000.50000  1.569094e+07    650.528800     38.921800     4.997690   \n",
      "std     2886.89568  7.193619e+04     96.653299     10.487806     2.894723   \n",
      "min        1.00000  1.556570e+07    350.000000     18.000000     0.000000   \n",
      "25%     2500.75000  1.562853e+07    584.000000     32.000000     2.000000   \n",
      "50%     5000.50000  1.569074e+07    652.000000     37.000000     5.000000   \n",
      "75%     7500.25000  1.575323e+07    718.000000     44.000000     7.000000   \n",
      "max    10000.00000  1.581569e+07    850.000000     92.000000    10.000000   \n",
      "\n",
      "             Balance  NumOfProducts    HasCrCard  IsActiveMember  \\\n",
      "count   10000.000000   10000.000000  10000.00000    10000.000000   \n",
      "mean    76485.889288       1.530200      0.70550        0.515100   \n",
      "std     62397.405202       0.581654      0.45584        0.499797   \n",
      "min         0.000000       1.000000      0.00000        0.000000   \n",
      "25%         0.000000       1.000000      0.00000        0.000000   \n",
      "50%     97198.540000       1.000000      1.00000        1.000000   \n",
      "75%    127644.240000       2.000000      1.00000        1.000000   \n",
      "max    250898.090000       4.000000      1.00000        1.000000   \n",
      "\n",
      "       EstimatedSalary        Exited  \n",
      "count     10000.000000  10000.000000  \n",
      "mean     100090.239881      0.203700  \n",
      "std       57510.492818      0.402769  \n",
      "min          11.580000      0.000000  \n",
      "25%       51002.110000      0.000000  \n",
      "50%      100193.915000      0.000000  \n",
      "75%      149388.247500      0.000000  \n",
      "max      199992.480000      1.000000  \n"
     ]
    }
   ],
   "source": [
    "print(data.info())\n",
    "\n",
    "print()\n",
    "\n",
    "print(data.describe())"
   ]
  },
  {
   "cell_type": "code",
   "execution_count": 41,
   "metadata": {},
   "outputs": [
    {
     "data": {
      "image/png": "[encoded data removed]",
      "text/plain": [
       "<Figure size 1000x800 with 2 Axes>"
      ]
     },
     "metadata": {},
     "output_type": "display_data"
    }
   ],
   "source": [
    "# Filtrar solo columnas numéricas\n",
    "numeric_data = data.select_dtypes(include=['int64', 'float64'])\n",
    "\n",
    "# Calcular la matriz de correlación\n",
    "corr_matrix = numeric_data.corr()\n",
    "\n",
    "# Visualizar el heatmap de correlación\n",
    "plt.figure(figsize=(10, 8))\n",
    "sns.heatmap(corr_matrix, annot=True, cmap='coolwarm', linewidths=0.5)\n",
    "plt.title('Matriz de Correlación entre Variables Numéricas')\n",
    "plt.show()\n"
   ]
  },
  {
   "cell_type": "markdown",
   "metadata": {},
   "source": [
    "Dado que la correlación entre las variables numéricas y la deserción es relativamente baja, es muy probable que un modelo lineal como la regresión logística no capture completamente la complejidad de los datos."
   ]
  },
  {
   "cell_type": "code",
   "execution_count": 40,
   "metadata": {},
   "outputs": [
    {
     "data": {
      "image/png": "[encoded data removed]",
      "text/plain": [
       "<Figure size 800x400 with 1 Axes>"
      ]
     },
     "metadata": {},
     "output_type": "display_data"
    }
   ],
   "source": [
    "plt.figure(figsize=(8, 4))\n",
    "sns.countplot(x='NumOfProducts', hue='Exited', data=data, palette='mako')\n",
    "plt.title('Relación entre el Número de Productos y la Deserción de Clientes')\n",
    "plt.xlabel('Número de Productos')\n",
    "plt.ylabel('Cantidad de Clientes')\n",
    "plt.show()\n"
   ]
  },
  {
   "cell_type": "markdown",
   "metadata": {},
   "source": [
    "Aunque el número de clientes con 3 o 4 productos es bajo, la proporción de deserción en este grupo parece alta.\n",
    "Podría ser necesario ofrecer productos o servicios más personalizados, mejorar la comunicación o brindar una atención al cliente más dedicada."
   ]
  },
  {
   "cell_type": "markdown",
   "metadata": {},
   "source": [
    "## Limpieza y Preprocesamiento de Datos"
   ]
  },
  {
   "cell_type": "markdown",
   "metadata": {},
   "source": [
    "###  Imputación de Valores Nulos"
   ]
  },
  {
   "cell_type": "markdown",
   "metadata": {},
   "source": [
    "Observamos que la columna Tenure tiene valores nulos. Vamos a reemplazar esos valores nulos con la mediana de la columna. La mediana es el valor que separa la mitad superior de la mitad inferior de los datos, y es menos sensible a valores extremos comparado con la media."
   ]
  },
  {
   "cell_type": "code",
   "execution_count": 5,
   "metadata": {},
   "outputs": [
    {
     "name": "stdout",
     "output_type": "stream",
     "text": [
      "RowNumber          0\n",
      "CustomerId         0\n",
      "Surname            0\n",
      "CreditScore        0\n",
      "Geography          0\n",
      "Gender             0\n",
      "Age                0\n",
      "Tenure             0\n",
      "Balance            0\n",
      "NumOfProducts      0\n",
      "HasCrCard          0\n",
      "IsActiveMember     0\n",
      "EstimatedSalary    0\n",
      "Exited             0\n",
      "dtype: int64\n"
     ]
    },
    {
     "name": "stderr",
     "output_type": "stream",
     "text": [
      "C:\\Users\\juan6\\AppData\\Local\\Temp\\ipykernel_20296\\505321135.py:2: FutureWarning: A value is trying to be set on a copy of a DataFrame or Series through chained assignment using an inplace method.\n",
      "The behavior will change in pandas 3.0. This inplace method will never work because the intermediate object on which we are setting values always behaves as a copy.\n",
      "\n",
      "For example, when doing 'df[col].method(value, inplace=True)', try using 'df.method({col: value}, inplace=True)' or df[col] = df[col].method(value) instead, to perform the operation inplace on the original object.\n",
      "\n",
      "\n",
      "  data['Tenure'].fillna(data['Tenure'].median(), inplace=True)\n"
     ]
    }
   ],
   "source": [
    "# Imputar valores nulos en la columna 'Tenure' con la mediana\n",
    "data['Tenure'].fillna(data['Tenure'].median(), inplace=True)\n",
    "\n",
    "print(data.isnull().sum())"
   ]
  },
  {
   "cell_type": "markdown",
   "metadata": {},
   "source": [
    "### Eliminar columnas irrelevantes"
   ]
  },
  {
   "cell_type": "code",
   "execution_count": 6,
   "metadata": {},
   "outputs": [],
   "source": [
    "# Eliminar columnas irrelevantes\n",
    "data = data.drop(columns=['RowNumber', 'CustomerId', 'Surname'])"
   ]
  },
  {
   "cell_type": "markdown",
   "metadata": {},
   "source": [
    "Eliminamos columnas que no aportan valor significativo al modelo (RowNumber, CustomerId, Surname)"
   ]
  },
  {
   "cell_type": "markdown",
   "metadata": {},
   "source": [
    "## Preprocesamiento de Datos"
   ]
  },
  {
   "cell_type": "markdown",
   "metadata": {},
   "source": [
    "### Regresión Logística (One-Hot Encoding)\n",
    "Convertimos variables categóricas usando One-Hot Encoding:"
   ]
  },
  {
   "cell_type": "code",
   "execution_count": 7,
   "metadata": {},
   "outputs": [],
   "source": [
    "# Convertir variables categóricas usando One-Hot Encoding\n",
    "data_ohe = pd.get_dummies(data, columns=['Geography', 'Gender'], drop_first=True)\n",
    "\n",
    "# Separar características y objetivo para Regresión Logística\n",
    "target = data_ohe['Exited']\n",
    "features = data_ohe.drop(['Exited'], axis=1)\n",
    "\n",
    "# Dividir los datos en conjuntos de entrenamiento y validación\n",
    "features_train, features_valid, target_train, target_valid = train_test_split(\n",
    "    features, target, test_size=0.25, random_state=12345)\n",
    "\n",
    "# Características numéricas a estandarizar\n",
    "numeric = ['CreditScore', 'Age', 'Tenure', 'Balance', 'NumOfProducts', 'EstimatedSalary']\n",
    "\n",
    "# Crear y ajustar el escalador\n",
    "scaler = StandardScaler()\n",
    "scaler.fit(features_train[numeric])\n",
    "pd.options.mode.chained_assignment = None\n",
    "\n",
    "# Transformar las características numéricas en los conjuntos de entrenamiento y validación\n",
    "features_train[numeric] = scaler.transform(features_train[numeric])\n",
    "features_valid[numeric] = scaler.transform(features_valid[numeric])\n"
   ]
  },
  {
   "cell_type": "markdown",
   "metadata": {},
   "source": [
    "Para modelos de regresión es mejor usar One-Hot para convertir las variables categóricas en numéricas. "
   ]
  },
  {
   "cell_type": "markdown",
   "metadata": {},
   "source": [
    "### Modelos Basados en Árboles (Label Encoding)"
   ]
  },
  {
   "cell_type": "code",
   "execution_count": 8,
   "metadata": {},
   "outputs": [],
   "source": [
    "# Codificación de etiquetas para árboles de decisión y bosques aleatorios\n",
    "encoder = OrdinalEncoder()\n",
    "data_ordinal = pd.DataFrame(encoder.fit_transform(data), columns=data.columns)\n",
    "\n",
    "# Separar características y objetivo\n",
    "target_tree = data_ordinal['Exited']\n",
    "features_tree = data_ordinal.drop(['Exited'], axis=1)\n",
    "\n",
    "# División de los datos en conjuntos de entrenamiento y validación\n",
    "features_tree_train, features_tree_valid, target_tree_train, target_tree_valid = train_test_split(\n",
    "    features_tree, target_tree, test_size=0.25, random_state=12345)"
   ]
  },
  {
   "cell_type": "markdown",
   "metadata": {},
   "source": [
    "Para bosque aleatorio y árbol de decisión es mejor usar codificación de etiquetas para convertir variables categóricas en numéricas."
   ]
  },
  {
   "cell_type": "markdown",
   "metadata": {},
   "source": [
    "## Manejo del Desequilibrio de Clases"
   ]
  },
  {
   "cell_type": "code",
   "execution_count": 9,
   "metadata": {},
   "outputs": [
    {
     "name": "stdout",
     "output_type": "stream",
     "text": [
      "Exited\n",
      "0    0.7963\n",
      "1    0.2037\n",
      "Name: proportion, dtype: float64\n"
     ]
    }
   ],
   "source": [
    "# Verificar la distribución de la variable objetivo\n",
    "print(data['Exited'].value_counts(normalize=True))"
   ]
  },
  {
   "cell_type": "markdown",
   "metadata": {},
   "source": [
    "Como podemos ver, hay desequilibrio de clases, por lo que usaremos métodos para corregir este desequilibrio."
   ]
  },
  {
   "cell_type": "markdown",
   "metadata": {},
   "source": [
    "### Funciones de Sobremuestreo y Submuestreo\n"
   ]
  },
  {
   "cell_type": "code",
   "execution_count": 10,
   "metadata": {},
   "outputs": [],
   "source": [
    "# Función de sobremuestreo\n",
    "def upsample(features, target, repeat):\n",
    "    features_zeros = features[target == 0]\n",
    "    features_ones = features[target == 1]\n",
    "    target_zeros = target[target == 0]\n",
    "    target_ones = target[target == 1]\n",
    "\n",
    "    features_upsampled = pd.concat([features_zeros] + [features_ones] * repeat)\n",
    "    target_upsampled = pd.concat([target_zeros] + [target_ones] * repeat)\n",
    "\n",
    "    features_upsampled, target_upsampled = shuffle(\n",
    "        features_upsampled, target_upsampled, random_state=12345\n",
    "    )\n",
    "\n",
    "    return features_upsampled, target_upsampled\n",
    "\n",
    "# Función de submuestreo\n",
    "def downsample(features, target, fraction):\n",
    "    features_zeros = features[target == 0]\n",
    "    features_ones = features[target == 1]\n",
    "    target_zeros = target[target == 0]\n",
    "    target_ones = target[target == 1]\n",
    "\n",
    "    features_downsampled = pd.concat(\n",
    "        [features_zeros.sample(frac=fraction, random_state=12345)]\n",
    "        + [features_ones]\n",
    "    )\n",
    "    target_downsampled = pd.concat(\n",
    "        [target_zeros.sample(frac=fraction, random_state=12345)]\n",
    "        + [target_ones]\n",
    "    )\n",
    "\n",
    "    features_downsampled, target_downsampled = shuffle(\n",
    "        features_downsampled, target_downsampled, random_state=12345\n",
    "    )\n",
    "\n",
    "    return features_downsampled, target_downsampled"
   ]
  },
  {
   "cell_type": "markdown",
   "metadata": {},
   "source": [
    "## Modelos y Evaluación"
   ]
  },
  {
   "cell_type": "markdown",
   "metadata": {},
   "source": [
    "### Regresión Logística Sin Balanceo\n",
    "\n",
    "Entrenamos un modelo de regresión logística sin tener en cuenta el desequilibrio de clases y evaluamos su rendimiento:"
   ]
  },
  {
   "cell_type": "code",
   "execution_count": 11,
   "metadata": {},
   "outputs": [
    {
     "name": "stdout",
     "output_type": "stream",
     "text": [
      "Regresión Logística - F1 inicial: 0.2948539638386648\n",
      "Regresión Logística - AUC-ROC inicial: 0.7585579415471689\n"
     ]
    }
   ],
   "source": [
    "# Entrenar un modelo de regresión logística\n",
    "model_lr = LogisticRegression(random_state=12345, solver='liblinear')\n",
    "model_lr.fit(features_train, target_train)\n",
    "\n",
    "# Realizar predicciones\n",
    "predicted_valid_lr = model_lr.predict(features_valid)\n",
    "probabilities_valid_lr = model_lr.predict_proba(features_valid)[:, 1]\n",
    "\n",
    "# Calcular F1 y AUC-ROC\n",
    "f1_lr = f1_score(target_valid, predicted_valid_lr)\n",
    "auc_roc_lr = roc_auc_score(target_valid, probabilities_valid_lr)\n",
    "\n",
    "print(\"Regresión Logística - F1 inicial:\", f1_lr)\n",
    "print(\"Regresión Logística - AUC-ROC inicial:\", auc_roc_lr)\n"
   ]
  },
  {
   "cell_type": "markdown",
   "metadata": {},
   "source": [
    "Como podemos ver, el valor de F1 no cumple con lo que buscamos. "
   ]
  },
  {
   "cell_type": "markdown",
   "metadata": {},
   "source": [
    "### Regresión Logística con Sobremuestreo"
   ]
  },
  {
   "cell_type": "code",
   "execution_count": 12,
   "metadata": {},
   "outputs": [
    {
     "name": "stdout",
     "output_type": "stream",
     "text": [
      "Regresión Logística - F1 con sobremuestreo: 0.4299474605954466\n",
      "Regresión Logística - AUC-ROC con sobremuestreo: 0.7652079617607191\n"
     ]
    }
   ],
   "source": [
    "features_upsampled, target_upsampled = upsample(features_train, target_train, 10)\n",
    "\n",
    "# Entrenar el modelo con sobremuestreo\n",
    "model_lr_upsampled = LogisticRegression(random_state=12345, solver='liblinear')\n",
    "model_lr_upsampled.fit(features_upsampled, target_upsampled)\n",
    "\n",
    "# Realizar predicciones\n",
    "predicted_valid_lr_upsampled = model_lr_upsampled.predict(features_valid)\n",
    "probabilities_valid_lr_upsampled = model_lr_upsampled.predict_proba(features_valid)[:, 1]\n",
    "\n",
    "# Calcular F1 y AUC-ROC\n",
    "f1_lr_upsampled = f1_score(target_valid, predicted_valid_lr_upsampled)\n",
    "auc_roc_lr_upsampled = roc_auc_score(target_valid, probabilities_valid_lr_upsampled)\n",
    "\n",
    "print(\"Regresión Logística - F1 con sobremuestreo:\", f1_lr_upsampled)\n",
    "print(\"Regresión Logística - AUC-ROC con sobremuestreo:\", auc_roc_lr_upsampled)\n"
   ]
  },
  {
   "cell_type": "markdown",
   "metadata": {},
   "source": [
    "La regresión con sobremuestreo  mejora el modelo, pero no llegamos a lo que buscamos con F1."
   ]
  },
  {
   "cell_type": "markdown",
   "metadata": {},
   "source": [
    "### Regresión Logística con Submuestreo\n"
   ]
  },
  {
   "cell_type": "code",
   "execution_count": 13,
   "metadata": {},
   "outputs": [
    {
     "name": "stdout",
     "output_type": "stream",
     "text": [
      "Regresión Logística - F1 con submuestreo: 0.4293935369632581\n",
      "Regresión Logística - AUC-ROC con submuestreo: 0.7671180233525956\n"
     ]
    }
   ],
   "source": [
    "features_downsampled, target_downsampled = downsample(features_train, target_train, 0.1)\n",
    "\n",
    "# Entrenar el modelo con submuestreo\n",
    "model_lr_downsampled = LogisticRegression(random_state=12345, solver='liblinear')\n",
    "model_lr_downsampled.fit(features_downsampled, target_downsampled)\n",
    "\n",
    "# Realizar predicciones\n",
    "predicted_valid_lr_downsampled = model_lr_downsampled.predict(features_valid)\n",
    "probabilities_valid_lr_downsampled = model_lr_downsampled.predict_proba(features_valid)[:, 1]\n",
    "\n",
    "# Calcular F1 y AUC-ROC\n",
    "f1_lr_downsampled = f1_score(target_valid, predicted_valid_lr_downsampled)\n",
    "auc_roc_lr_downsampled = roc_auc_score(target_valid, probabilities_valid_lr_downsampled)\n",
    "\n",
    "print(\"Regresión Logística - F1 con submuestreo:\", f1_lr_downsampled)\n",
    "print(\"Regresión Logística - AUC-ROC con submuestreo:\", auc_roc_lr_downsampled)\n"
   ]
  },
  {
   "cell_type": "markdown",
   "metadata": {},
   "source": [
    "La regresión con submuestreo tampoco llega a lo que buscamos con F1."
   ]
  },
  {
   "cell_type": "markdown",
   "metadata": {},
   "source": [
    "### Regresión Logística con Ajuste de Pesos de Clase"
   ]
  },
  {
   "cell_type": "code",
   "execution_count": 14,
   "metadata": {},
   "outputs": [
    {
     "name": "stdout",
     "output_type": "stream",
     "text": [
      "Regresión Logística - F1 con ajuste de pesos de clase: 0.5050234427327528\n",
      "Regresión Logística - AUC-ROC con ajuste de pesos de clase: 0.7632522413260088\n"
     ]
    }
   ],
   "source": [
    "# Entrenar un modelo de regresión logística con ajuste de pesos de clase\n",
    "model_lr_class_weight = LogisticRegression(random_state=12345, class_weight='balanced', solver='liblinear')\n",
    "model_lr_class_weight.fit(features_train, target_train)\n",
    "\n",
    "# Realizar predicciones\n",
    "predicted_valid_lr_class_weight = model_lr_class_weight.predict(features_valid)\n",
    "probabilities_valid_lr_class_weight = model_lr_class_weight.predict_proba(features_valid)[:, 1]\n",
    "\n",
    "# Calcular F1 y AUC-ROC\n",
    "f1_lr_class_weight = f1_score(target_valid, predicted_valid_lr_class_weight)\n",
    "auc_roc_lr_class_weight = roc_auc_score(target_valid, probabilities_valid_lr_class_weight)\n",
    "\n",
    "print(\"Regresión Logística - F1 con ajuste de pesos de clase:\", f1_lr_class_weight)\n",
    "print(\"Regresión Logística - AUC-ROC con ajuste de pesos de clase:\", auc_roc_lr_class_weight)\n"
   ]
  },
  {
   "cell_type": "markdown",
   "metadata": {},
   "source": [
    "La regresión con el ajuste de pesos de clase mejora, pero no llega a lo que buscamos."
   ]
  },
  {
   "cell_type": "markdown",
   "metadata": {},
   "source": [
    "### Ajuste de Umbral para Regresión Logística"
   ]
  },
  {
   "cell_type": "code",
   "execution_count": 15,
   "metadata": {},
   "outputs": [
    {
     "name": "stdout",
     "output_type": "stream",
     "text": [
      "Threshold = 0.00 | Precision = 0.214, Recall = 1.000, F1 = 0.353, AUC-ROC = 0.500\n",
      "Threshold = 0.02 | Precision = 0.215, Recall = 1.000, F1 = 0.355, AUC-ROC = 0.504\n",
      "Threshold = 0.04 | Precision = 0.225, Recall = 0.981, F1 = 0.366, AUC-ROC = 0.531\n",
      "Threshold = 0.06 | Precision = 0.243, Recall = 0.953, F1 = 0.387, AUC-ROC = 0.573\n",
      "Threshold = 0.08 | Precision = 0.263, Recall = 0.933, F1 = 0.411, AUC-ROC = 0.611\n",
      "Threshold = 0.10 | Precision = 0.283, Recall = 0.895, F1 = 0.430, AUC-ROC = 0.639\n",
      "Threshold = 0.12 | Precision = 0.304, Recall = 0.852, F1 = 0.448, AUC-ROC = 0.661\n",
      "Threshold = 0.14 | Precision = 0.328, Recall = 0.821, F1 = 0.468, AUC-ROC = 0.681\n",
      "Threshold = 0.16 | Precision = 0.347, Recall = 0.781, F1 = 0.480, AUC-ROC = 0.690\n",
      "Threshold = 0.18 | Precision = 0.367, Recall = 0.750, F1 = 0.493, AUC-ROC = 0.699\n",
      "Threshold = 0.20 | Precision = 0.387, Recall = 0.707, F1 = 0.500, AUC-ROC = 0.701\n",
      "Threshold = 0.22 | Precision = 0.407, Recall = 0.667, F1 = 0.505, AUC-ROC = 0.701\n",
      "Threshold = 0.24 | Precision = 0.419, Recall = 0.630, F1 = 0.503, AUC-ROC = 0.696\n",
      "Threshold = 0.26 | Precision = 0.439, Recall = 0.600, F1 = 0.507, AUC-ROC = 0.696\n",
      "Threshold = 0.28 | Precision = 0.446, Recall = 0.544, F1 = 0.490, AUC-ROC = 0.680\n",
      "Threshold = 0.30 | Precision = 0.461, Recall = 0.503, F1 = 0.481, AUC-ROC = 0.671\n",
      "Threshold = 0.32 | Precision = 0.472, Recall = 0.460, F1 = 0.466, AUC-ROC = 0.660\n",
      "Threshold = 0.34 | Precision = 0.486, Recall = 0.434, F1 = 0.458, AUC-ROC = 0.654\n",
      "Threshold = 0.36 | Precision = 0.501, Recall = 0.393, F1 = 0.440, AUC-ROC = 0.643\n",
      "Threshold = 0.38 | Precision = 0.530, Recall = 0.364, F1 = 0.432, AUC-ROC = 0.638\n",
      "Threshold = 0.40 | Precision = 0.524, Recall = 0.323, F1 = 0.400, AUC-ROC = 0.622\n",
      "Threshold = 0.42 | Precision = 0.534, Recall = 0.297, F1 = 0.382, AUC-ROC = 0.613\n",
      "Threshold = 0.44 | Precision = 0.549, Recall = 0.284, F1 = 0.374, AUC-ROC = 0.610\n",
      "Threshold = 0.46 | Precision = 0.559, Recall = 0.258, F1 = 0.353, AUC-ROC = 0.601\n",
      "Threshold = 0.48 | Precision = 0.567, Recall = 0.222, F1 = 0.319, AUC-ROC = 0.588\n",
      "Threshold = 0.50 | Precision = 0.576, Recall = 0.198, F1 = 0.295, AUC-ROC = 0.579\n",
      "Threshold = 0.52 | Precision = 0.609, Recall = 0.178, F1 = 0.275, AUC-ROC = 0.573\n",
      "Threshold = 0.54 | Precision = 0.619, Recall = 0.161, F1 = 0.255, AUC-ROC = 0.567\n",
      "Threshold = 0.56 | Precision = 0.617, Recall = 0.133, F1 = 0.218, AUC-ROC = 0.555\n",
      "Threshold = 0.58 | Precision = 0.602, Recall = 0.116, F1 = 0.194, AUC-ROC = 0.548\n",
      "Threshold = 0.60 | Precision = 0.602, Recall = 0.093, F1 = 0.162, AUC-ROC = 0.538\n",
      "Threshold = 0.62 | Precision = 0.597, Recall = 0.080, F1 = 0.142, AUC-ROC = 0.533\n",
      "Threshold = 0.64 | Precision = 0.610, Recall = 0.067, F1 = 0.121, AUC-ROC = 0.528\n",
      "Threshold = 0.66 | Precision = 0.608, Recall = 0.058, F1 = 0.106, AUC-ROC = 0.524\n",
      "Threshold = 0.68 | Precision = 0.615, Recall = 0.045, F1 = 0.084, AUC-ROC = 0.519\n",
      "Threshold = 0.70 | Precision = 0.581, Recall = 0.034, F1 = 0.064, AUC-ROC = 0.514\n",
      "Threshold = 0.72 | Precision = 0.600, Recall = 0.028, F1 = 0.054, AUC-ROC = 0.511\n",
      "Threshold = 0.74 | Precision = 0.591, Recall = 0.024, F1 = 0.047, AUC-ROC = 0.510\n",
      "Threshold = 0.76 | Precision = 0.526, Recall = 0.019, F1 = 0.036, AUC-ROC = 0.507\n",
      "Threshold = 0.78 | Precision = 0.500, Recall = 0.013, F1 = 0.026, AUC-ROC = 0.505\n",
      "Threshold = 0.80 | Precision = 0.250, Recall = 0.004, F1 = 0.007, AUC-ROC = 0.500\n",
      "Threshold = 0.82 | Precision = 0.286, Recall = 0.004, F1 = 0.007, AUC-ROC = 0.501\n",
      "Threshold = 0.84 | Precision = 0.333, Recall = 0.004, F1 = 0.007, AUC-ROC = 0.501\n",
      "Threshold = 0.86 | Precision = 0.667, Recall = 0.004, F1 = 0.007, AUC-ROC = 0.502\n",
      "Threshold = 0.88 | Precision = 0.667, Recall = 0.004, F1 = 0.007, AUC-ROC = 0.502\n",
      "Threshold = 0.90 | Precision = 0.500, Recall = 0.002, F1 = 0.004, AUC-ROC = 0.501\n"
     ]
    }
   ],
   "source": [
    "# Ajuste de Umbral\n",
    "probabilities_valid_lr_umbral = model_lr.predict_proba(features_valid)[:, 1]\n",
    "for threshold in np.arange(0, 0.92, 0.02):\n",
    "    predicted_valid_lr_umbral = probabilities_valid_lr_umbral > threshold\n",
    "    precision_lr_umbral = precision_score(target_valid, predicted_valid_lr_umbral)\n",
    "    recall_lr_umbral = recall_score(target_valid, predicted_valid_lr_umbral)\n",
    "    f1_lr_umbral = f1_score(target_valid, predicted_valid_lr_umbral)\n",
    "    auc_roc_lr_umbral = roc_auc_score(target_tree_valid, predicted_valid_lr_umbral)\n",
    "    print(f'Threshold = {threshold:.2f} | Precision = {precision_lr_umbral:.3f}, Recall = {recall_lr_umbral:.3f}, F1 = {f1_lr_umbral:.3f}, AUC-ROC = {auc_roc_lr_umbral:.3f}')"
   ]
  },
  {
   "cell_type": "markdown",
   "metadata": {},
   "source": [
    "Con el ajuste de umbral a 0.26 se mejora, pero aún no se llega a lo que buscamos.\n",
    "\n",
    "Con modelos de regresión no llegaremos a lo que buscamos. "
   ]
  },
  {
   "cell_type": "markdown",
   "metadata": {},
   "source": [
    "### Árbol de Decisión Sin Balanceo"
   ]
  },
  {
   "cell_type": "code",
   "execution_count": 16,
   "metadata": {},
   "outputs": [
    {
     "name": "stdout",
     "output_type": "stream",
     "text": [
      "Árbol de Decisión - F1 inicial: 0.46225535880708296\n",
      "Árbol de Decisión - AUC-ROC inicial: 0.6579843523340706\n"
     ]
    }
   ],
   "source": [
    "# Entrenar un modelo de árbol de decisión\n",
    "model_tree = DecisionTreeClassifier(random_state=12345)\n",
    "model_tree.fit(features_tree_train, target_tree_train)\n",
    "\n",
    "# Realizar predicciones\n",
    "predicted_valid_tree = model_tree.predict(features_tree_valid)\n",
    "probabilities_valid_tree = model_tree.predict_proba(features_tree_valid)[:, 1]\n",
    "\n",
    "# Calcular F1 y AUC-ROC\n",
    "f1_tree = f1_score(target_tree_valid, predicted_valid_tree)\n",
    "auc_roc_tree = roc_auc_score(target_tree_valid, probabilities_valid_tree)\n",
    "\n",
    "print(\"Árbol de Decisión - F1 inicial:\", f1_tree)\n",
    "print(\"Árbol de Decisión - AUC-ROC inicial:\", auc_roc_tree)\n"
   ]
  },
  {
   "cell_type": "markdown",
   "metadata": {},
   "source": [
    "### Árbol de Decisión con Sobremuestreo"
   ]
  },
  {
   "cell_type": "code",
   "execution_count": 17,
   "metadata": {},
   "outputs": [
    {
     "name": "stdout",
     "output_type": "stream",
     "text": [
      "Árbol de Decisión - F1 con sobremuestreo: 0.4970178926441352\n",
      "Árbol de Decisión - AUC-ROC con sobremuestreo: 0.6774107631209721\n"
     ]
    }
   ],
   "source": [
    "features_tree_upsampled, target_tree_upsampled = upsample(features_tree_train, target_tree_train, 10)\n",
    "\n",
    "# Entrenar el modelo con sobremuestreo\n",
    "model_tree_upsampled = DecisionTreeClassifier(random_state=12345)\n",
    "model_tree_upsampled.fit(features_tree_upsampled, target_tree_upsampled)\n",
    "\n",
    "# Realizar predicciones\n",
    "predicted_valid_tree_upsampled = model_tree_upsampled.predict(features_tree_valid)\n",
    "probabilities_valid_tree_upsampled = model_tree_upsampled.predict_proba(features_tree_valid)[:, 1]\n",
    "\n",
    "# Calcular F1 y AUC-ROC\n",
    "f1_tree_upsampled = f1_score(target_tree_valid, predicted_valid_tree_upsampled)\n",
    "auc_roc_tree_upsampled = roc_auc_score(target_tree_valid, probabilities_valid_tree_upsampled)\n",
    "\n",
    "print(\"Árbol de Decisión - F1 con sobremuestreo:\", f1_tree_upsampled)\n",
    "print(\"Árbol de Decisión - AUC-ROC con sobremuestreo:\", auc_roc_tree_upsampled)\n"
   ]
  },
  {
   "cell_type": "markdown",
   "metadata": {},
   "source": [
    "En el caso del árbol de decisión con el sobremuestreo se mejoran los valores de F1 y AUC-ROC, pero aún no llegamos a lo que necesitamos. "
   ]
  },
  {
   "cell_type": "markdown",
   "metadata": {},
   "source": [
    "### Árbol de Decisión con Submuestreo"
   ]
  },
  {
   "cell_type": "code",
   "execution_count": 18,
   "metadata": {},
   "outputs": [
    {
     "name": "stdout",
     "output_type": "stream",
     "text": [
      "Árbol de Decisión - F1 con submuestreo: 0.4776280323450135\n",
      "Árbol de Decisión - AUC-ROC con submuestreo: 0.6908634753037979\n"
     ]
    }
   ],
   "source": [
    "features_tree_downsampled, target_tree_downsampled = downsample(features_tree_train, target_tree_train, 0.1)\n",
    "\n",
    "# Entrenar el modelo con submuestreo\n",
    "model_tree_downsampled = DecisionTreeClassifier(random_state=12345)\n",
    "model_tree_downsampled.fit(features_tree_downsampled, target_tree_downsampled)\n",
    "\n",
    "# Realizar predicciones\n",
    "predicted_valid_tree_downsampled = model_tree_downsampled.predict(features_tree_valid)\n",
    "probabilities_valid_tree_downsampled = model_tree_downsampled.predict_proba(features_tree_valid)[:, 1]\n",
    "\n",
    "# Calcular F1 y AUC-ROC\n",
    "f1_tree_downsampled = f1_score(target_tree_valid, predicted_valid_tree_downsampled)\n",
    "auc_roc_tree_downsampled = roc_auc_score(target_tree_valid, probabilities_valid_tree_downsampled)\n",
    "\n",
    "print(\"Árbol de Decisión - F1 con submuestreo:\", f1_tree_downsampled)\n",
    "print(\"Árbol de Decisión - AUC-ROC con submuestreo:\", auc_roc_tree_downsampled)\n"
   ]
  },
  {
   "cell_type": "markdown",
   "metadata": {},
   "source": [
    "En el caso del árbol de decisión con el submuestreo se mejora los valores de F1 y AUC-ROC, pero aún no llegamos a lo que necesitamos. "
   ]
  },
  {
   "cell_type": "markdown",
   "metadata": {},
   "source": [
    "### Árbol de Decisión con Ajuste de Pesos de Clase"
   ]
  },
  {
   "cell_type": "code",
   "execution_count": 19,
   "metadata": {},
   "outputs": [
    {
     "name": "stdout",
     "output_type": "stream",
     "text": [
      "Árbol de Decisión - F1 con ajuste de pesos de clase: 0.4814462416745956\n",
      "Árbol de Decisión - AUC-ROC con ajuste de pesos de clase: 0.6695274785379657\n"
     ]
    }
   ],
   "source": [
    "# Entrenar un modelo de árbol de decisión con ajuste de pesos de clase\n",
    "model_tree_class_weight = DecisionTreeClassifier(random_state=12345, class_weight='balanced')\n",
    "model_tree_class_weight.fit(features_tree_train, target_tree_train)\n",
    "\n",
    "# Realizar predicciones\n",
    "predicted_valid_tree_class_weight = model_tree_class_weight.predict(features_tree_valid)\n",
    "probabilities_valid_tree_class_weight = model_tree_class_weight.predict_proba(features_tree_valid)[:, 1]\n",
    "\n",
    "# Calcular F1 y AUC-ROC\n",
    "f1_tree_class_weight = f1_score(target_tree_valid, predicted_valid_tree_class_weight)\n",
    "auc_roc_tree_class_weight = roc_auc_score(target_tree_valid, probabilities_valid_tree_class_weight)\n",
    "\n",
    "print(\"Árbol de Decisión - F1 con ajuste de pesos de clase:\", f1_tree_class_weight)\n",
    "print(\"Árbol de Decisión - AUC-ROC con ajuste de pesos de clase:\", auc_roc_tree_class_weight)\n"
   ]
  },
  {
   "cell_type": "markdown",
   "metadata": {},
   "source": [
    "Aún no llegamos a los valores deseados. "
   ]
  },
  {
   "cell_type": "markdown",
   "metadata": {},
   "source": [
    "### Ajuste de Umbral para Árbol de Decisión"
   ]
  },
  {
   "cell_type": "code",
   "execution_count": 20,
   "metadata": {
    "scrolled": true
   },
   "outputs": [
    {
     "name": "stdout",
     "output_type": "stream",
     "text": [
      "Threshold = 0.00 | Precision = 0.212, Recall = 0.983, F1 = 0.348, AUC-ROC = 0.493\n",
      "Threshold = 0.02 | Precision = 0.253, Recall = 0.959, F1 = 0.400, AUC-ROC = 0.593\n",
      "Threshold = 0.04 | Precision = 0.263, Recall = 0.953, F1 = 0.413, AUC-ROC = 0.614\n",
      "Threshold = 0.06 | Precision = 0.302, Recall = 0.927, F1 = 0.456, AUC-ROC = 0.672\n",
      "Threshold = 0.08 | Precision = 0.347, Recall = 0.858, F1 = 0.495, AUC-ROC = 0.710\n",
      "Threshold = 0.10 | Precision = 0.355, Recall = 0.849, F1 = 0.500, AUC-ROC = 0.714\n",
      "Threshold = 0.12 | Precision = 0.388, Recall = 0.826, F1 = 0.528, AUC-ROC = 0.736\n",
      "Threshold = 0.14 | Precision = 0.440, Recall = 0.798, F1 = 0.567, AUC-ROC = 0.761\n",
      "Threshold = 0.16 | Precision = 0.443, Recall = 0.770, F1 = 0.562, AUC-ROC = 0.753\n",
      "Threshold = 0.18 | Precision = 0.460, Recall = 0.759, F1 = 0.573, AUC-ROC = 0.758\n",
      "Threshold = 0.20 | Precision = 0.480, Recall = 0.723, F1 = 0.577, AUC-ROC = 0.755\n",
      "Threshold = 0.22 | Precision = 0.484, Recall = 0.723, F1 = 0.580, AUC-ROC = 0.757\n",
      "Threshold = 0.24 | Precision = 0.535, Recall = 0.669, F1 = 0.595, AUC-ROC = 0.755\n",
      "Threshold = 0.26 | Precision = 0.545, Recall = 0.636, F1 = 0.587, AUC-ROC = 0.745\n",
      "Threshold = 0.28 | Precision = 0.585, Recall = 0.598, F1 = 0.591, AUC-ROC = 0.741\n",
      "Threshold = 0.30 | Precision = 0.585, Recall = 0.598, F1 = 0.591, AUC-ROC = 0.741\n",
      "Threshold = 0.32 | Precision = 0.585, Recall = 0.598, F1 = 0.591, AUC-ROC = 0.741\n",
      "Threshold = 0.34 | Precision = 0.660, Recall = 0.525, F1 = 0.585, AUC-ROC = 0.726\n",
      "Threshold = 0.36 | Precision = 0.660, Recall = 0.525, F1 = 0.585, AUC-ROC = 0.726\n",
      "Threshold = 0.38 | Precision = 0.710, Recall = 0.490, F1 = 0.580, AUC-ROC = 0.718\n",
      "Threshold = 0.40 | Precision = 0.739, Recall = 0.445, F1 = 0.555, AUC-ROC = 0.701\n",
      "Threshold = 0.42 | Precision = 0.739, Recall = 0.445, F1 = 0.555, AUC-ROC = 0.701\n",
      "Threshold = 0.44 | Precision = 0.739, Recall = 0.445, F1 = 0.555, AUC-ROC = 0.701\n",
      "Threshold = 0.46 | Precision = 0.739, Recall = 0.445, F1 = 0.555, AUC-ROC = 0.701\n",
      "Threshold = 0.48 | Precision = 0.759, Recall = 0.441, F1 = 0.558, AUC-ROC = 0.701\n",
      "Threshold = 0.50 | Precision = 0.804, Recall = 0.413, F1 = 0.546, AUC-ROC = 0.693\n",
      "Threshold = 0.52 | Precision = 0.804, Recall = 0.413, F1 = 0.546, AUC-ROC = 0.693\n",
      "Threshold = 0.54 | Precision = 0.796, Recall = 0.379, F1 = 0.514, AUC-ROC = 0.676\n",
      "Threshold = 0.56 | Precision = 0.796, Recall = 0.379, F1 = 0.514, AUC-ROC = 0.676\n",
      "Threshold = 0.58 | Precision = 0.796, Recall = 0.379, F1 = 0.514, AUC-ROC = 0.676\n",
      "Threshold = 0.60 | Precision = 0.828, Recall = 0.323, F1 = 0.465, AUC-ROC = 0.653\n",
      "Threshold = 0.62 | Precision = 0.828, Recall = 0.323, F1 = 0.465, AUC-ROC = 0.653\n",
      "Threshold = 0.64 | Precision = 0.834, Recall = 0.320, F1 = 0.462, AUC-ROC = 0.651\n",
      "Threshold = 0.66 | Precision = 0.834, Recall = 0.320, F1 = 0.462, AUC-ROC = 0.651\n",
      "Threshold = 0.68 | Precision = 0.833, Recall = 0.318, F1 = 0.460, AUC-ROC = 0.650\n",
      "Threshold = 0.70 | Precision = 0.833, Recall = 0.318, F1 = 0.460, AUC-ROC = 0.650\n",
      "Threshold = 0.72 | Precision = 0.833, Recall = 0.318, F1 = 0.460, AUC-ROC = 0.650\n",
      "Threshold = 0.74 | Precision = 0.834, Recall = 0.301, F1 = 0.442, AUC-ROC = 0.642\n",
      "Threshold = 0.76 | Precision = 0.854, Recall = 0.262, F1 = 0.401, AUC-ROC = 0.625\n",
      "Threshold = 0.78 | Precision = 0.854, Recall = 0.262, F1 = 0.401, AUC-ROC = 0.625\n",
      "Threshold = 0.80 | Precision = 0.854, Recall = 0.262, F1 = 0.401, AUC-ROC = 0.625\n",
      "Threshold = 0.82 | Precision = 0.871, Recall = 0.226, F1 = 0.359, AUC-ROC = 0.609\n",
      "Threshold = 0.84 | Precision = 0.871, Recall = 0.226, F1 = 0.359, AUC-ROC = 0.609\n",
      "Threshold = 0.86 | Precision = 0.875, Recall = 0.222, F1 = 0.355, AUC-ROC = 0.607\n",
      "Threshold = 0.88 | Precision = 0.875, Recall = 0.222, F1 = 0.355, AUC-ROC = 0.607\n",
      "Threshold = 0.90 | Precision = 0.875, Recall = 0.222, F1 = 0.355, AUC-ROC = 0.607\n"
     ]
    }
   ],
   "source": [
    "# Entrenar un modelo de árbol de decisión\n",
    "model_tree = DecisionTreeClassifier(random_state=12345, max_depth=7)\n",
    "model_tree.fit(features_tree_train, target_tree_train)\n",
    "# Obtener las probabilidades predichas para la clase positiva\n",
    "probabilities_valid_tree_umbral = model_tree.predict_proba(features_tree_valid)[:, 1]\n",
    "for threshold in np.arange(0, 0.92, 0.02):\n",
    "    predicted_valid_tree_umbral = probabilities_valid_tree_umbral > threshold\n",
    "    precision = precision_score(target_tree_valid, predicted_valid_tree_umbral)\n",
    "    recall = recall_score(target_tree_valid, predicted_valid_tree_umbral)\n",
    "    f1 = f1_score(target_tree_valid, predicted_valid_tree_umbral)\n",
    "    auc_roc = roc_auc_score(target_tree_valid, predicted_valid_tree_umbral)\n",
    "    \n",
    "    print(f'Threshold = {threshold:.2f} | Precision = {precision:.3f}, Recall = {recall:.3f}, F1 = {f1:.3f}, AUC-ROC = {auc_roc:.3f}')"
   ]
  },
  {
   "cell_type": "markdown",
   "metadata": {},
   "source": [
    "Aquí usamos hiperparámetros(max_depth) para mejorar el modelo, finalmente llegamos al valor deseado de F1 = 0.595, con un umbral de 0.24 "
   ]
  },
  {
   "cell_type": "markdown",
   "metadata": {},
   "source": [
    "### Bosque Aleatorio Sin Balanceo"
   ]
  },
  {
   "cell_type": "code",
   "execution_count": 21,
   "metadata": {},
   "outputs": [
    {
     "name": "stdout",
     "output_type": "stream",
     "text": [
      "Bosque Aleatorio - F1 inicial: 0.5659928656361475\n",
      "Bosque Aleatorio - AUC-ROC inicial: 0.8519535801764524\n"
     ]
    }
   ],
   "source": [
    "# Entrenar un modelo de bosque aleatorio\n",
    "model_rf = RandomForestClassifier(random_state=12345)\n",
    "model_rf.fit(features_tree_train, target_tree_train)\n",
    "\n",
    "# Realizar predicciones\n",
    "predicted_valid_rf = model_rf.predict(features_tree_valid)\n",
    "probabilities_valid_rf = model_rf.predict_proba(features_tree_valid)[:, 1]\n",
    "\n",
    "# Calcular F1 y AUC-ROC\n",
    "f1_rf = f1_score(target_tree_valid, predicted_valid_rf)\n",
    "auc_roc_rf = roc_auc_score(target_tree_valid, probabilities_valid_rf)\n",
    "\n",
    "print(\"Bosque Aleatorio - F1 inicial:\", f1_rf)\n",
    "print(\"Bosque Aleatorio - AUC-ROC inicial:\", auc_roc_rf)\n"
   ]
  },
  {
   "cell_type": "markdown",
   "metadata": {},
   "source": [
    "Para bosque aleatorio, el valor inicial sin balanceo aún está por debajo. "
   ]
  },
  {
   "cell_type": "markdown",
   "metadata": {},
   "source": [
    "### Bosque Aleatorio con Sobremuestreo"
   ]
  },
  {
   "cell_type": "code",
   "execution_count": 22,
   "metadata": {},
   "outputs": [
    {
     "name": "stdout",
     "output_type": "stream",
     "text": [
      "Bosque Aleatorio - F1 con sobremuestreo: 0.5962343096234309\n",
      "Bosque Aleatorio - AUC-ROC con sobremuestreo: 0.8438653064136405\n"
     ]
    }
   ],
   "source": [
    "features_tree_upsampled, target_tree_upsampled = upsample(features_tree_train, target_tree_train, 10)\n",
    "\n",
    "# Entrenar el modelo con sobremuestreo\n",
    "model_rf_upsampled = RandomForestClassifier(random_state=12345)\n",
    "model_rf_upsampled.fit(features_tree_upsampled, target_tree_upsampled)\n",
    "\n",
    "# Realizar predicciones\n",
    "predicted_valid_rf_upsampled = model_rf_upsampled.predict(features_tree_valid)\n",
    "probabilities_valid_rf_upsampled = model_rf_upsampled.predict_proba(features_tree_valid)[:, 1]\n",
    "\n",
    "# Calcular F1 y AUC-ROC\n",
    "f1_rf_upsampled = f1_score(target_tree_valid, predicted_valid_rf_upsampled)\n",
    "auc_roc_rf_upsampled = roc_auc_score(target_tree_valid, probabilities_valid_rf_upsampled)\n",
    "\n",
    "print(\"Bosque Aleatorio - F1 con sobremuestreo:\", f1_rf_upsampled)\n",
    "print(\"Bosque Aleatorio - AUC-ROC con sobremuestreo:\", auc_roc_rf_upsampled)\n"
   ]
  },
  {
   "cell_type": "markdown",
   "metadata": {},
   "source": [
    "Con el sobremuestreo para bosque aleatorio llegamos al valor deseado con F1 = 0.596 "
   ]
  },
  {
   "cell_type": "markdown",
   "metadata": {},
   "source": [
    "### Bosque Aleatorio con Submuestreo"
   ]
  },
  {
   "cell_type": "code",
   "execution_count": 23,
   "metadata": {},
   "outputs": [
    {
     "name": "stdout",
     "output_type": "stream",
     "text": [
      "Bosque Aleatorio - F1 con submuestreo: 0.4989816700610998\n",
      "Bosque Aleatorio - AUC-ROC con submuestreo: 0.8477158688259494\n"
     ]
    }
   ],
   "source": [
    "features_tree_downsampled, target_tree_downsampled = downsample(features_tree_train, target_tree_train, 0.1)\n",
    "\n",
    "# Entrenar el modelo con submuestreo\n",
    "model_rf_downsampled = RandomForestClassifier(random_state=12345)\n",
    "model_rf_downsampled.fit(features_tree_downsampled, target_tree_downsampled)\n",
    "\n",
    "# Realizar predicciones\n",
    "predicted_valid_rf_downsampled = model_rf_downsampled.predict(features_tree_valid)\n",
    "probabilities_valid_rf_downsampled = model_rf_downsampled.predict_proba(features_tree_valid)[:, 1]\n",
    "\n",
    "# Calcular F1 y AUC-ROC\n",
    "f1_rf_downsampled = f1_score(target_tree_valid, predicted_valid_rf_downsampled)\n",
    "auc_roc_rf_downsampled = roc_auc_score(target_tree_valid, probabilities_valid_rf_downsampled)\n",
    "\n",
    "print(\"Bosque Aleatorio - F1 con submuestreo:\", f1_rf_downsampled)\n",
    "print(\"Bosque Aleatorio - AUC-ROC con submuestreo:\", auc_roc_rf_downsampled)\n"
   ]
  },
  {
   "cell_type": "markdown",
   "metadata": {},
   "source": [
    "Con el submuestreo los valores se mantienen por debajo de 0.59 para F1. "
   ]
  },
  {
   "cell_type": "markdown",
   "metadata": {},
   "source": [
    "### Bosque Aleatorio con Ajuste de Pesos de Clase"
   ]
  },
  {
   "cell_type": "code",
   "execution_count": 24,
   "metadata": {},
   "outputs": [
    {
     "name": "stdout",
     "output_type": "stream",
     "text": [
      "Bosque Aleatorio - F1 con ajuste de pesos de clase: 0.5531400966183575\n",
      "Bosque Aleatorio - AUC-ROC con ajuste de pesos de clase: 0.853254857197213\n"
     ]
    }
   ],
   "source": [
    "# Entrenar un modelo de bosque aleatorio con ajuste de pesos de clase\n",
    "model_rf_class_weight = RandomForestClassifier(random_state=12345, class_weight='balanced')\n",
    "model_rf_class_weight.fit(features_tree_train, target_tree_train)\n",
    "\n",
    "# Realizar predicciones\n",
    "predicted_valid_rf_class_weight = model_rf_class_weight.predict(features_tree_valid)\n",
    "probabilities_valid_rf_class_weight = model_rf_class_weight.predict_proba(features_tree_valid)[:, 1]\n",
    "\n",
    "# Calcular F1 y AUC-ROC\n",
    "f1_rf_class_weight = f1_score(target_tree_valid, predicted_valid_rf_class_weight)\n",
    "auc_roc_rf_class_weight = roc_auc_score(target_tree_valid, probabilities_valid_rf_class_weight)\n",
    "\n",
    "print(\"Bosque Aleatorio - F1 con ajuste de pesos de clase:\", f1_rf_class_weight)\n",
    "print(\"Bosque Aleatorio - AUC-ROC con ajuste de pesos de clase:\", auc_roc_rf_class_weight)\n"
   ]
  },
  {
   "cell_type": "markdown",
   "metadata": {},
   "source": [
    "Con el ajuste de peso tampoco se llega a lo que se busca en F1."
   ]
  },
  {
   "cell_type": "markdown",
   "metadata": {},
   "source": [
    "### Ajuste de Umbral para Bosque Aleatorio"
   ]
  },
  {
   "cell_type": "code",
   "execution_count": 25,
   "metadata": {},
   "outputs": [
    {
     "name": "stdout",
     "output_type": "stream",
     "text": [
      "Threshold = 0.00 | Precision = 0.227, Recall = 0.993, F1 = 0.369, AUC-ROC = 0.536\n",
      "Threshold = 0.02 | Precision = 0.253, Recall = 0.972, F1 = 0.401, AUC-ROC = 0.595\n",
      "Threshold = 0.04 | Precision = 0.282, Recall = 0.961, F1 = 0.436, AUC-ROC = 0.648\n",
      "Threshold = 0.06 | Precision = 0.304, Recall = 0.942, F1 = 0.459, AUC-ROC = 0.677\n",
      "Threshold = 0.08 | Precision = 0.331, Recall = 0.921, F1 = 0.487, AUC-ROC = 0.707\n",
      "Threshold = 0.10 | Precision = 0.355, Recall = 0.897, F1 = 0.509, AUC-ROC = 0.727\n",
      "Threshold = 0.12 | Precision = 0.383, Recall = 0.877, F1 = 0.533, AUC-ROC = 0.746\n",
      "Threshold = 0.14 | Precision = 0.408, Recall = 0.847, F1 = 0.550, AUC-ROC = 0.756\n",
      "Threshold = 0.16 | Precision = 0.426, Recall = 0.824, F1 = 0.562, AUC-ROC = 0.761\n",
      "Threshold = 0.18 | Precision = 0.449, Recall = 0.806, F1 = 0.577, AUC-ROC = 0.768\n",
      "Threshold = 0.20 | Precision = 0.482, Recall = 0.787, F1 = 0.598, AUC-ROC = 0.778\n",
      "Threshold = 0.22 | Precision = 0.498, Recall = 0.764, F1 = 0.603, AUC-ROC = 0.777\n",
      "Threshold = 0.24 | Precision = 0.511, Recall = 0.723, F1 = 0.599, AUC-ROC = 0.767\n",
      "Threshold = 0.26 | Precision = 0.530, Recall = 0.701, F1 = 0.604, AUC-ROC = 0.766\n",
      "Threshold = 0.28 | Precision = 0.553, Recall = 0.662, F1 = 0.603, AUC-ROC = 0.758\n",
      "Threshold = 0.30 | Precision = 0.570, Recall = 0.645, F1 = 0.605, AUC-ROC = 0.756\n",
      "Threshold = 0.32 | Precision = 0.592, Recall = 0.621, F1 = 0.606, AUC-ROC = 0.752\n",
      "Threshold = 0.34 | Precision = 0.624, Recall = 0.594, F1 = 0.609, AUC-ROC = 0.748\n",
      "Threshold = 0.36 | Precision = 0.648, Recall = 0.578, F1 = 0.611, AUC-ROC = 0.746\n",
      "Threshold = 0.38 | Precision = 0.674, Recall = 0.564, F1 = 0.614, AUC-ROC = 0.745\n",
      "Threshold = 0.40 | Precision = 0.697, Recall = 0.551, F1 = 0.616, AUC-ROC = 0.743\n",
      "Threshold = 0.42 | Precision = 0.714, Recall = 0.533, F1 = 0.610, AUC-ROC = 0.737\n",
      "Threshold = 0.44 | Precision = 0.739, Recall = 0.518, F1 = 0.609, AUC-ROC = 0.734\n",
      "Threshold = 0.46 | Precision = 0.749, Recall = 0.497, F1 = 0.598, AUC-ROC = 0.726\n",
      "Threshold = 0.48 | Precision = 0.758, Recall = 0.469, F1 = 0.580, AUC-ROC = 0.714\n",
      "Threshold = 0.50 | Precision = 0.778, Recall = 0.445, F1 = 0.566, AUC-ROC = 0.705\n",
      "Threshold = 0.52 | Precision = 0.786, Recall = 0.426, F1 = 0.553, AUC-ROC = 0.697\n",
      "Threshold = 0.54 | Precision = 0.794, Recall = 0.417, F1 = 0.547, AUC-ROC = 0.694\n",
      "Threshold = 0.56 | Precision = 0.796, Recall = 0.387, F1 = 0.521, AUC-ROC = 0.680\n",
      "Threshold = 0.58 | Precision = 0.805, Recall = 0.370, F1 = 0.507, AUC-ROC = 0.673\n",
      "Threshold = 0.60 | Precision = 0.825, Recall = 0.351, F1 = 0.493, AUC-ROC = 0.666\n",
      "Threshold = 0.62 | Precision = 0.851, Recall = 0.331, F1 = 0.476, AUC-ROC = 0.658\n",
      "Threshold = 0.64 | Precision = 0.857, Recall = 0.314, F1 = 0.460, AUC-ROC = 0.650\n",
      "Threshold = 0.66 | Precision = 0.864, Recall = 0.297, F1 = 0.442, AUC-ROC = 0.642\n",
      "Threshold = 0.68 | Precision = 0.871, Recall = 0.277, F1 = 0.420, AUC-ROC = 0.633\n",
      "Threshold = 0.70 | Precision = 0.869, Recall = 0.260, F1 = 0.400, AUC-ROC = 0.625\n",
      "Threshold = 0.72 | Precision = 0.873, Recall = 0.245, F1 = 0.382, AUC-ROC = 0.618\n",
      "Threshold = 0.74 | Precision = 0.896, Recall = 0.241, F1 = 0.380, AUC-ROC = 0.617\n",
      "Threshold = 0.76 | Precision = 0.897, Recall = 0.228, F1 = 0.364, AUC-ROC = 0.610\n",
      "Threshold = 0.78 | Precision = 0.902, Recall = 0.207, F1 = 0.337, AUC-ROC = 0.601\n",
      "Threshold = 0.80 | Precision = 0.906, Recall = 0.198, F1 = 0.325, AUC-ROC = 0.596\n",
      "Threshold = 0.82 | Precision = 0.899, Recall = 0.166, F1 = 0.281, AUC-ROC = 0.581\n",
      "Threshold = 0.84 | Precision = 0.914, Recall = 0.138, F1 = 0.240, AUC-ROC = 0.567\n",
      "Threshold = 0.86 | Precision = 0.940, Recall = 0.118, F1 = 0.209, AUC-ROC = 0.558\n",
      "Threshold = 0.88 | Precision = 0.950, Recall = 0.107, F1 = 0.192, AUC-ROC = 0.553\n",
      "Threshold = 0.90 | Precision = 0.957, Recall = 0.084, F1 = 0.155, AUC-ROC = 0.542\n"
     ]
    }
   ],
   "source": [
    "probabilities_valid_rf = model_rf.predict_proba(features_tree_valid)[:, 1]\n",
    "for threshold in np.arange(0, 0.92, 0.02):\n",
    "    predicted_valid_rf = probabilities_valid_rf > threshold\n",
    "    precision = precision_score(target_tree_valid, predicted_valid_rf)\n",
    "    recall = recall_score(target_tree_valid, predicted_valid_rf)\n",
    "    f1 = f1_score(target_tree_valid, predicted_valid_rf)\n",
    "    auc_roc = roc_auc_score(target_tree_valid, predicted_valid_rf)\n",
    "    print(f'Threshold = {threshold:.2f} | Precision = {precision:.3f}, Recall = {recall:.3f}, F1 = {f1:.3f}, AUC-ROC = {auc_roc:.3f}')\n"
   ]
  },
  {
   "cell_type": "markdown",
   "metadata": {},
   "source": [
    "Aquí en el ajuste de umbral igual a 0.40 tenemos un valor de F1 igual a 0.616, por lo que esté sería el mejor valor. "
   ]
  },
  {
   "cell_type": "markdown",
   "metadata": {},
   "source": [
    "## Modelo elegido Bosque aleatorio con ajuste de umbral a 0.4"
   ]
  },
  {
   "cell_type": "code",
   "execution_count": 26,
   "metadata": {},
   "outputs": [
    {
     "name": "stdout",
     "output_type": "stream",
     "text": [
      "Threshold = 0.90 | Precision = 0.697, Recall = 0.551, F1 = 0.616, AUC-ROC = 0.743\n"
     ]
    }
   ],
   "source": [
    "# Realizar predicciones\n",
    "predicted_valid_eleg = model_rf.predict(features_tree_valid)\n",
    "probabilities_valid_eleg = model_rf.predict_proba(features_tree_valid)[:, 1]\n",
    "\n",
    "\n",
    "\n",
    "predicted_valid_eleg = probabilities_valid_eleg > 0.40\n",
    "precision = precision_score(target_tree_valid, predicted_valid_eleg)\n",
    "recall = recall_score(target_tree_valid, predicted_valid_eleg)\n",
    "f1 = f1_score(target_tree_valid, predicted_valid_eleg)\n",
    "auc_roc = roc_auc_score(target_tree_valid, predicted_valid_eleg)\n",
    "print(f'Threshold = {threshold:.2f} | Precision = {precision:.3f}, Recall = {recall:.3f}, F1 = {f1:.3f}, AUC-ROC = {auc_roc:.3f}')\n"
   ]
  },
  {
   "cell_type": "markdown",
   "metadata": {},
   "source": [
    "## Conclusiones"
   ]
  },
  {
   "cell_type": "markdown",
   "metadata": {},
   "source": [
    "- En este proyecto, cargamos y trabajamos con el dataset Churn.csv, que contiene información sobre clientes de una compañía bancaria Beta Bank.\n",
    "- Imputamos valores faltantes en la columna Tenure utilizando la mediana y eliminamos columnas irrelevantes para el análisis (RowNumber, CustomerId, Surname).\n",
    "- Exploramos las características del dataset y verificamos la distribución de la variable objetivo Exited.\n",
    "- Utilizamos One-Hot Encoding para las variables categóricas (Geography y Gender) para modelos de regresión y codificación de etiquetas para árbol de decisión y bosque aleatorio.\n",
    "- Aplicamos StandardScaler para estandarizar las características numéricas.\n",
    "- Preparamos modelos basándonos en árbol de decisión, bosque aleatorio y regresión logística.\n",
    "- Aplicamos técnicas para combatir el desequilibrio de clases, técnicas como submuestreo, sobremuestreo y ajuste de pesos.\n",
    "- Ajustamos el umbral para obtener mejores valores de F1 y AUC-ROC.\n",
    "- El mejor modelo fue el Bosque Aleatorio con un umbral ajustado a 0.40 como el modelo óptimo.\n",
    "-  El modelo final puede predecir de manera efectiva la probabilidad de que un cliente abandone el banco, lo que puede ayudar a la compañía a tomar medidas preventivas para retener clientes y mejorar la satisfacción del cliente.\n",
    "- Este proyecto proporcionó un modelo robusto y preciso para predecir el comportamiento de clientes, lo que puede tener un impacto significativo en las estrategias de retención de clientes y la optimización de ingresos de la compañía bancaria."
   ]
  }
 ],
 "metadata": {
  "ExecuteTimeLog": [
   {
    "duration": 1219,
    "start_time": "2024-06-10T17:18:19.393Z"
   },
   {
    "duration": 4,
    "start_time": "2024-06-10T17:18:32.620Z"
   },
   {
    "duration": 38,
    "start_time": "2024-06-10T17:19:07.027Z"
   },
   {
    "duration": 23,
    "start_time": "2024-06-10T17:19:14.194Z"
   },
   {
    "duration": 12,
    "start_time": "2024-06-10T17:19:22.189Z"
   },
   {
    "duration": 17,
    "start_time": "2024-06-10T17:38:40.416Z"
   },
   {
    "duration": 387,
    "start_time": "2024-06-10T17:53:49.854Z"
   },
   {
    "duration": 57,
    "start_time": "2024-06-10T17:54:05.748Z"
   },
   {
    "duration": 1218,
    "start_time": "2024-06-10T20:39:10.125Z"
   },
   {
    "duration": 36,
    "start_time": "2024-06-10T20:39:11.347Z"
   },
   {
    "duration": 15,
    "start_time": "2024-06-10T20:39:11.386Z"
   },
   {
    "duration": 76,
    "start_time": "2024-06-10T20:39:11.405Z"
   },
   {
    "duration": 11,
    "start_time": "2024-06-10T21:00:52.589Z"
   },
   {
    "duration": 12,
    "start_time": "2024-06-10T21:17:17.846Z"
   },
   {
    "duration": 6,
    "start_time": "2024-06-10T21:39:19.223Z"
   },
   {
    "duration": 9,
    "start_time": "2024-06-10T21:45:42.995Z"
   },
   {
    "duration": 39,
    "start_time": "2024-06-10T22:19:19.508Z"
   },
   {
    "duration": 1154,
    "start_time": "2024-06-10T22:19:51.479Z"
   },
   {
    "duration": 25,
    "start_time": "2024-06-10T22:19:52.637Z"
   },
   {
    "duration": 13,
    "start_time": "2024-06-10T22:19:52.665Z"
   },
   {
    "duration": 80,
    "start_time": "2024-06-10T22:19:52.681Z"
   },
   {
    "duration": 10,
    "start_time": "2024-06-10T22:19:52.765Z"
   },
   {
    "duration": 13,
    "start_time": "2024-06-10T22:19:52.778Z"
   },
   {
    "duration": 42,
    "start_time": "2024-06-10T22:19:52.794Z"
   },
   {
    "duration": 10,
    "start_time": "2024-06-10T22:19:52.839Z"
   },
   {
    "duration": 36,
    "start_time": "2024-06-10T22:19:52.852Z"
   },
   {
    "duration": 31,
    "start_time": "2024-06-10T22:24:31.074Z"
   },
   {
    "duration": 29,
    "start_time": "2024-06-10T22:24:33.562Z"
   },
   {
    "duration": 13,
    "start_time": "2024-06-10T22:29:58.780Z"
   },
   {
    "duration": 26,
    "start_time": "2024-06-10T22:31:33.607Z"
   },
   {
    "duration": 238,
    "start_time": "2024-06-10T22:32:18.951Z"
   },
   {
    "duration": 6,
    "start_time": "2024-06-10T22:32:56.710Z"
   },
   {
    "duration": 1087,
    "start_time": "2024-06-10T22:33:04.084Z"
   },
   {
    "duration": 25,
    "start_time": "2024-06-10T22:33:05.175Z"
   },
   {
    "duration": 14,
    "start_time": "2024-06-10T22:33:05.202Z"
   },
   {
    "duration": 53,
    "start_time": "2024-06-10T22:33:05.235Z"
   },
   {
    "duration": 10,
    "start_time": "2024-06-10T22:33:05.293Z"
   },
   {
    "duration": 39,
    "start_time": "2024-06-10T22:33:05.305Z"
   },
   {
    "duration": 8,
    "start_time": "2024-06-10T22:33:05.347Z"
   },
   {
    "duration": 9,
    "start_time": "2024-06-10T22:33:05.358Z"
   },
   {
    "duration": 70,
    "start_time": "2024-06-10T22:33:05.371Z"
   },
   {
    "duration": 8,
    "start_time": "2024-06-10T22:33:05.444Z"
   },
   {
    "duration": 248,
    "start_time": "2024-06-10T22:33:05.455Z"
   },
   {
    "duration": 56,
    "start_time": "2024-06-10T22:34:58.214Z"
   },
   {
    "duration": 947,
    "start_time": "2024-06-10T22:39:33.768Z"
   },
   {
    "duration": 1178,
    "start_time": "2024-06-10T22:39:48.615Z"
   },
   {
    "duration": 24,
    "start_time": "2024-06-10T22:39:49.796Z"
   },
   {
    "duration": 17,
    "start_time": "2024-06-10T22:39:49.823Z"
   },
   {
    "duration": 52,
    "start_time": "2024-06-10T22:39:49.845Z"
   },
   {
    "duration": 40,
    "start_time": "2024-06-10T22:39:49.900Z"
   },
   {
    "duration": 13,
    "start_time": "2024-06-10T22:39:49.943Z"
   },
   {
    "duration": 8,
    "start_time": "2024-06-10T22:39:49.959Z"
   },
   {
    "duration": 9,
    "start_time": "2024-06-10T22:39:49.971Z"
   },
   {
    "duration": 74,
    "start_time": "2024-06-10T22:39:49.983Z"
   },
   {
    "duration": 8,
    "start_time": "2024-06-10T22:39:50.061Z"
   },
   {
    "duration": 262,
    "start_time": "2024-06-10T22:39:50.072Z"
   },
   {
    "duration": 58,
    "start_time": "2024-06-10T22:39:55.410Z"
   },
   {
    "duration": 9,
    "start_time": "2024-06-10T22:40:00.381Z"
   },
   {
    "duration": 955,
    "start_time": "2024-06-10T22:40:02.934Z"
   },
   {
    "duration": 6,
    "start_time": "2024-06-10T22:40:21.044Z"
   },
   {
    "duration": 9,
    "start_time": "2024-06-10T22:40:23.764Z"
   },
   {
    "duration": 30,
    "start_time": "2024-06-10T22:40:25.739Z"
   },
   {
    "duration": 22,
    "start_time": "2024-06-10T22:40:35.051Z"
   },
   {
    "duration": 19,
    "start_time": "2024-06-10T22:40:46.240Z"
   },
   {
    "duration": 14,
    "start_time": "2024-06-10T22:42:29.988Z"
   },
   {
    "duration": 1190,
    "start_time": "2024-06-10T22:42:54.756Z"
   },
   {
    "duration": 34,
    "start_time": "2024-06-10T22:42:55.950Z"
   },
   {
    "duration": 25,
    "start_time": "2024-06-10T22:42:55.987Z"
   },
   {
    "duration": 82,
    "start_time": "2024-06-10T22:42:56.016Z"
   },
   {
    "duration": 10,
    "start_time": "2024-06-10T22:42:56.103Z"
   },
   {
    "duration": 32,
    "start_time": "2024-06-10T22:42:56.115Z"
   },
   {
    "duration": 8,
    "start_time": "2024-06-10T22:42:56.151Z"
   },
   {
    "duration": 9,
    "start_time": "2024-06-10T22:42:56.162Z"
   },
   {
    "duration": 76,
    "start_time": "2024-06-10T22:42:56.174Z"
   },
   {
    "duration": 8,
    "start_time": "2024-06-10T22:42:56.255Z"
   },
   {
    "duration": 255,
    "start_time": "2024-06-10T22:42:56.266Z"
   },
   {
    "duration": 0,
    "start_time": "2024-06-10T22:42:56.524Z"
   },
   {
    "duration": 0,
    "start_time": "2024-06-10T22:42:56.526Z"
   },
   {
    "duration": 15,
    "start_time": "2024-06-10T22:43:09.381Z"
   },
   {
    "duration": 29,
    "start_time": "2024-06-10T22:44:40.212Z"
   },
   {
    "duration": 55,
    "start_time": "2024-06-10T22:45:18.541Z"
   },
   {
    "duration": 54,
    "start_time": "2024-06-10T22:45:27.503Z"
   },
   {
    "duration": 53,
    "start_time": "2024-06-10T22:45:35.850Z"
   },
   {
    "duration": 54,
    "start_time": "2024-06-10T22:45:44.138Z"
   },
   {
    "duration": 1137,
    "start_time": "2024-06-10T22:49:29.482Z"
   },
   {
    "duration": 24,
    "start_time": "2024-06-10T22:49:30.623Z"
   },
   {
    "duration": 27,
    "start_time": "2024-06-10T22:49:30.650Z"
   },
   {
    "duration": 89,
    "start_time": "2024-06-10T22:49:30.683Z"
   },
   {
    "duration": 12,
    "start_time": "2024-06-10T22:49:30.777Z"
   },
   {
    "duration": 15,
    "start_time": "2024-06-10T22:49:30.793Z"
   },
   {
    "duration": 22,
    "start_time": "2024-06-10T22:49:30.834Z"
   },
   {
    "duration": 8,
    "start_time": "2024-06-10T22:49:30.859Z"
   },
   {
    "duration": 10,
    "start_time": "2024-06-10T22:49:30.870Z"
   },
   {
    "duration": 58,
    "start_time": "2024-06-10T22:49:30.887Z"
   },
   {
    "duration": 43,
    "start_time": "2024-06-10T22:49:30.948Z"
   },
   {
    "duration": 443,
    "start_time": "2024-06-10T22:49:30.994Z"
   },
   {
    "duration": 0,
    "start_time": "2024-06-10T22:49:31.440Z"
   },
   {
    "duration": 0,
    "start_time": "2024-06-10T22:49:31.441Z"
   },
   {
    "duration": 0,
    "start_time": "2024-06-10T22:49:31.443Z"
   },
   {
    "duration": 0,
    "start_time": "2024-06-10T22:49:31.446Z"
   },
   {
    "duration": 306,
    "start_time": "2024-06-11T01:46:22.830Z"
   },
   {
    "duration": 1245,
    "start_time": "2024-06-11T01:46:37.587Z"
   },
   {
    "duration": 39,
    "start_time": "2024-06-11T01:46:38.836Z"
   },
   {
    "duration": 26,
    "start_time": "2024-06-11T01:46:38.879Z"
   },
   {
    "duration": 55,
    "start_time": "2024-06-11T01:46:38.908Z"
   },
   {
    "duration": 35,
    "start_time": "2024-06-11T01:46:38.969Z"
   },
   {
    "duration": 5,
    "start_time": "2024-06-11T01:46:39.008Z"
   },
   {
    "duration": 13,
    "start_time": "2024-06-11T01:46:39.016Z"
   },
   {
    "duration": 8,
    "start_time": "2024-06-11T01:46:39.031Z"
   },
   {
    "duration": 9,
    "start_time": "2024-06-11T01:46:39.042Z"
   },
   {
    "duration": 75,
    "start_time": "2024-06-11T01:46:39.053Z"
   },
   {
    "duration": 9,
    "start_time": "2024-06-11T01:46:39.131Z"
   },
   {
    "duration": 85,
    "start_time": "2024-06-11T01:46:39.143Z"
   },
   {
    "duration": 18,
    "start_time": "2024-06-11T01:46:39.315Z"
   },
   {
    "duration": 3,
    "start_time": "2024-06-11T02:17:07.313Z"
   },
   {
    "duration": 43,
    "start_time": "2024-06-11T02:17:11.806Z"
   },
   {
    "duration": 48,
    "start_time": "2024-06-11T02:17:14.047Z"
   },
   {
    "duration": 31,
    "start_time": "2024-06-11T02:17:22.740Z"
   },
   {
    "duration": 7,
    "start_time": "2024-06-11T02:17:26.484Z"
   },
   {
    "duration": 52,
    "start_time": "2024-06-11T02:17:29.499Z"
   },
   {
    "duration": 15,
    "start_time": "2024-06-11T02:17:34.013Z"
   },
   {
    "duration": 1222,
    "start_time": "2024-06-11T02:17:58.690Z"
   },
   {
    "duration": 26,
    "start_time": "2024-06-11T02:17:59.917Z"
   },
   {
    "duration": 28,
    "start_time": "2024-06-11T02:17:59.947Z"
   },
   {
    "duration": 70,
    "start_time": "2024-06-11T02:17:59.979Z"
   },
   {
    "duration": 11,
    "start_time": "2024-06-11T02:18:00.054Z"
   },
   {
    "duration": 4,
    "start_time": "2024-06-11T02:18:00.067Z"
   },
   {
    "duration": 14,
    "start_time": "2024-06-11T02:18:00.102Z"
   },
   {
    "duration": 9,
    "start_time": "2024-06-11T02:18:00.119Z"
   },
   {
    "duration": 10,
    "start_time": "2024-06-11T02:18:00.131Z"
   },
   {
    "duration": 68,
    "start_time": "2024-06-11T02:18:00.144Z"
   },
   {
    "duration": 10,
    "start_time": "2024-06-11T02:18:00.214Z"
   },
   {
    "duration": 288,
    "start_time": "2024-06-11T02:18:00.228Z"
   },
   {
    "duration": 0,
    "start_time": "2024-06-11T02:18:00.521Z"
   },
   {
    "duration": 1369,
    "start_time": "2024-06-11T02:18:16.706Z"
   },
   {
    "duration": 31,
    "start_time": "2024-06-11T02:18:18.080Z"
   },
   {
    "duration": 33,
    "start_time": "2024-06-11T02:18:18.114Z"
   },
   {
    "duration": 103,
    "start_time": "2024-06-11T02:18:18.151Z"
   },
   {
    "duration": 28,
    "start_time": "2024-06-11T02:18:18.260Z"
   },
   {
    "duration": 11,
    "start_time": "2024-06-11T02:18:18.294Z"
   },
   {
    "duration": 15,
    "start_time": "2024-06-11T02:18:18.308Z"
   },
   {
    "duration": 8,
    "start_time": "2024-06-11T02:18:18.327Z"
   },
   {
    "duration": 8,
    "start_time": "2024-06-11T02:18:18.339Z"
   },
   {
    "duration": 69,
    "start_time": "2024-06-11T02:18:18.352Z"
   },
   {
    "duration": 15,
    "start_time": "2024-06-11T02:18:18.423Z"
   },
   {
    "duration": 95,
    "start_time": "2024-06-11T02:18:18.442Z"
   },
   {
    "duration": 100,
    "start_time": "2024-06-11T02:18:18.541Z"
   },
   {
    "duration": 413,
    "start_time": "2024-06-11T02:21:58.807Z"
   },
   {
    "duration": 4,
    "start_time": "2024-06-11T02:22:11.285Z"
   },
   {
    "duration": 71,
    "start_time": "2024-06-11T02:22:16.839Z"
   },
   {
    "duration": 34,
    "start_time": "2024-06-11T02:23:29.190Z"
   },
   {
    "duration": 65,
    "start_time": "2024-06-11T02:23:59.102Z"
   },
   {
    "duration": 1197,
    "start_time": "2024-06-11T02:24:20.709Z"
   },
   {
    "duration": 33,
    "start_time": "2024-06-11T02:24:21.910Z"
   },
   {
    "duration": 29,
    "start_time": "2024-06-11T02:24:21.946Z"
   },
   {
    "duration": 78,
    "start_time": "2024-06-11T02:24:21.983Z"
   },
   {
    "duration": 13,
    "start_time": "2024-06-11T02:24:22.064Z"
   },
   {
    "duration": 22,
    "start_time": "2024-06-11T02:24:22.080Z"
   },
   {
    "duration": 13,
    "start_time": "2024-06-11T02:24:22.105Z"
   },
   {
    "duration": 7,
    "start_time": "2024-06-11T02:24:22.121Z"
   },
   {
    "duration": 10,
    "start_time": "2024-06-11T02:24:22.130Z"
   },
   {
    "duration": 74,
    "start_time": "2024-06-11T02:24:22.145Z"
   },
   {
    "duration": 9,
    "start_time": "2024-06-11T02:24:22.221Z"
   },
   {
    "duration": 87,
    "start_time": "2024-06-11T02:24:22.234Z"
   },
   {
    "duration": 94,
    "start_time": "2024-06-11T02:24:22.325Z"
   },
   {
    "duration": 104,
    "start_time": "2024-06-11T02:24:22.422Z"
   },
   {
    "duration": 203,
    "start_time": "2024-06-11T02:24:22.528Z"
   },
   {
    "duration": 91,
    "start_time": "2024-06-11T02:24:29.118Z"
   },
   {
    "duration": 1200,
    "start_time": "2024-06-11T03:18:12.390Z"
   },
   {
    "duration": 403,
    "start_time": "2024-06-11T03:29:07.284Z"
   },
   {
    "duration": 1254,
    "start_time": "2024-06-11T03:29:14.730Z"
   },
   {
    "duration": 44,
    "start_time": "2024-06-11T03:29:15.988Z"
   },
   {
    "duration": 30,
    "start_time": "2024-06-11T03:29:16.036Z"
   },
   {
    "duration": 78,
    "start_time": "2024-06-11T03:29:16.069Z"
   },
   {
    "duration": 10,
    "start_time": "2024-06-11T03:29:16.152Z"
   },
   {
    "duration": 5,
    "start_time": "2024-06-11T03:29:16.166Z"
   },
   {
    "duration": 53,
    "start_time": "2024-06-11T03:29:16.175Z"
   },
   {
    "duration": 8,
    "start_time": "2024-06-11T03:29:16.231Z"
   },
   {
    "duration": 9,
    "start_time": "2024-06-11T03:29:16.241Z"
   },
   {
    "duration": 33,
    "start_time": "2024-06-11T03:29:16.253Z"
   },
   {
    "duration": 37,
    "start_time": "2024-06-11T03:29:16.289Z"
   },
   {
    "duration": 46,
    "start_time": "2024-06-11T03:29:16.330Z"
   },
   {
    "duration": 60,
    "start_time": "2024-06-11T03:29:16.378Z"
   },
   {
    "duration": 133,
    "start_time": "2024-06-11T03:29:16.446Z"
   },
   {
    "duration": 108,
    "start_time": "2024-06-11T03:29:16.624Z"
   },
   {
    "duration": 7,
    "start_time": "2024-06-11T03:29:16.735Z"
   },
   {
    "duration": 6,
    "start_time": "2024-06-11T03:29:36.705Z"
   },
   {
    "duration": 6,
    "start_time": "2024-06-11T03:29:41.574Z"
   },
   {
    "duration": 9,
    "start_time": "2024-06-11T03:29:45.504Z"
   },
   {
    "duration": 559,
    "start_time": "2024-06-11T03:32:08.532Z"
   },
   {
    "duration": 12,
    "start_time": "2024-06-11T03:32:18.422Z"
   },
   {
    "duration": 15,
    "start_time": "2024-06-11T03:35:20.399Z"
   },
   {
    "duration": 32,
    "start_time": "2024-06-11T06:25:57.676Z"
   },
   {
    "duration": 4,
    "start_time": "2024-06-11T06:26:40.846Z"
   },
   {
    "duration": 304,
    "start_time": "2024-06-11T06:26:45.697Z"
   },
   {
    "duration": 42,
    "start_time": "2024-06-11T06:30:31.337Z"
   },
   {
    "duration": 316,
    "start_time": "2024-06-11T06:32:46.607Z"
   },
   {
    "duration": 38,
    "start_time": "2024-06-11T06:47:03.103Z"
   },
   {
    "duration": 40,
    "start_time": "2024-06-11T06:47:06.318Z"
   },
   {
    "duration": 60,
    "start_time": "2024-06-11T06:47:11.552Z"
   },
   {
    "duration": 40,
    "start_time": "2024-06-11T06:47:14.356Z"
   },
   {
    "duration": 11,
    "start_time": "2024-06-11T06:47:18.167Z"
   },
   {
    "duration": 293,
    "start_time": "2024-06-11T06:47:20.272Z"
   },
   {
    "duration": 1239,
    "start_time": "2024-06-11T06:47:30.334Z"
   },
   {
    "duration": 25,
    "start_time": "2024-06-11T06:47:31.578Z"
   },
   {
    "duration": 39,
    "start_time": "2024-06-11T06:47:31.606Z"
   },
   {
    "duration": 75,
    "start_time": "2024-06-11T06:47:31.648Z"
   },
   {
    "duration": 10,
    "start_time": "2024-06-11T06:47:31.727Z"
   },
   {
    "duration": 7,
    "start_time": "2024-06-11T06:47:31.740Z"
   },
   {
    "duration": 12,
    "start_time": "2024-06-11T06:47:31.751Z"
   },
   {
    "duration": 8,
    "start_time": "2024-06-11T06:47:31.766Z"
   },
   {
    "duration": 53,
    "start_time": "2024-06-11T06:47:31.776Z"
   },
   {
    "duration": 32,
    "start_time": "2024-06-11T06:47:31.832Z"
   },
   {
    "duration": 9,
    "start_time": "2024-06-11T06:47:31.867Z"
   },
   {
    "duration": 76,
    "start_time": "2024-06-11T06:47:31.880Z"
   },
   {
    "duration": 73,
    "start_time": "2024-06-11T06:47:31.959Z"
   },
   {
    "duration": 126,
    "start_time": "2024-06-11T06:47:32.037Z"
   },
   {
    "duration": 161,
    "start_time": "2024-06-11T06:47:32.166Z"
   },
   {
    "duration": 9,
    "start_time": "2024-06-11T06:47:32.330Z"
   },
   {
    "duration": 453,
    "start_time": "2024-06-11T06:47:32.342Z"
   },
   {
    "duration": 62,
    "start_time": "2024-06-11T06:48:03.765Z"
   },
   {
    "duration": 41,
    "start_time": "2024-06-11T06:48:08.201Z"
   },
   {
    "duration": 40,
    "start_time": "2024-06-11T06:48:10.374Z"
   },
   {
    "duration": 18,
    "start_time": "2024-06-11T06:48:13.651Z"
   },
   {
    "duration": 111,
    "start_time": "2024-06-11T06:52:03.014Z"
   },
   {
    "duration": 1113,
    "start_time": "2024-06-11T06:52:11.175Z"
   },
   {
    "duration": 32,
    "start_time": "2024-06-11T06:52:12.291Z"
   },
   {
    "duration": 25,
    "start_time": "2024-06-11T06:52:12.326Z"
   },
   {
    "duration": 75,
    "start_time": "2024-06-11T06:52:12.354Z"
   },
   {
    "duration": 11,
    "start_time": "2024-06-11T06:52:12.434Z"
   },
   {
    "duration": 6,
    "start_time": "2024-06-11T06:52:12.447Z"
   },
   {
    "duration": 13,
    "start_time": "2024-06-11T06:52:12.456Z"
   },
   {
    "duration": 51,
    "start_time": "2024-06-11T06:52:12.472Z"
   },
   {
    "duration": 8,
    "start_time": "2024-06-11T06:52:12.526Z"
   },
   {
    "duration": 32,
    "start_time": "2024-06-11T06:52:12.537Z"
   },
   {
    "duration": 9,
    "start_time": "2024-06-11T06:52:12.571Z"
   },
   {
    "duration": 78,
    "start_time": "2024-06-11T06:52:12.583Z"
   },
   {
    "duration": 70,
    "start_time": "2024-06-11T06:52:12.664Z"
   },
   {
    "duration": 130,
    "start_time": "2024-06-11T06:52:12.741Z"
   },
   {
    "duration": 110,
    "start_time": "2024-06-11T06:52:12.924Z"
   },
   {
    "duration": 87,
    "start_time": "2024-06-11T06:52:13.036Z"
   },
   {
    "duration": 384,
    "start_time": "2024-06-11T06:52:13.125Z"
   },
   {
    "duration": 42,
    "start_time": "2024-06-11T06:52:45.912Z"
   },
   {
    "duration": 37,
    "start_time": "2024-06-11T06:53:18.514Z"
   },
   {
    "duration": 1213,
    "start_time": "2024-06-11T06:53:27.269Z"
   },
   {
    "duration": 26,
    "start_time": "2024-06-11T06:53:28.485Z"
   },
   {
    "duration": 30,
    "start_time": "2024-06-11T06:53:28.514Z"
   },
   {
    "duration": 85,
    "start_time": "2024-06-11T06:53:28.548Z"
   },
   {
    "duration": 10,
    "start_time": "2024-06-11T06:53:28.640Z"
   },
   {
    "duration": 7,
    "start_time": "2024-06-11T06:53:28.653Z"
   },
   {
    "duration": 14,
    "start_time": "2024-06-11T06:53:28.664Z"
   },
   {
    "duration": 9,
    "start_time": "2024-06-11T06:53:28.722Z"
   },
   {
    "duration": 12,
    "start_time": "2024-06-11T06:53:28.734Z"
   },
   {
    "duration": 38,
    "start_time": "2024-06-11T06:53:28.749Z"
   },
   {
    "duration": 9,
    "start_time": "2024-06-11T06:53:28.824Z"
   },
   {
    "duration": 89,
    "start_time": "2024-06-11T06:53:28.836Z"
   },
   {
    "duration": 18,
    "start_time": "2024-06-11T06:53:28.928Z"
   },
   {
    "duration": 43,
    "start_time": "2024-06-11T06:53:29.027Z"
   },
   {
    "duration": 136,
    "start_time": "2024-06-11T06:53:29.124Z"
   },
   {
    "duration": 173,
    "start_time": "2024-06-11T06:53:29.264Z"
   },
   {
    "duration": 89,
    "start_time": "2024-06-11T06:53:29.442Z"
   },
   {
    "duration": 443,
    "start_time": "2024-06-11T06:53:29.537Z"
   },
   {
    "duration": 428,
    "start_time": "2024-06-11T07:01:54.213Z"
   },
   {
    "duration": 7,
    "start_time": "2024-06-11T07:03:54.477Z"
   },
   {
    "duration": 112,
    "start_time": "2024-06-11T07:04:01.114Z"
   },
   {
    "duration": 1191,
    "start_time": "2024-06-11T07:04:22.555Z"
   },
   {
    "duration": 25,
    "start_time": "2024-06-11T07:04:23.752Z"
   },
   {
    "duration": 42,
    "start_time": "2024-06-11T07:04:23.780Z"
   },
   {
    "duration": 52,
    "start_time": "2024-06-11T07:04:23.826Z"
   },
   {
    "duration": 10,
    "start_time": "2024-06-11T07:04:23.885Z"
   },
   {
    "duration": 5,
    "start_time": "2024-06-11T07:04:23.924Z"
   },
   {
    "duration": 14,
    "start_time": "2024-06-11T07:04:23.931Z"
   },
   {
    "duration": 7,
    "start_time": "2024-06-11T07:04:23.948Z"
   },
   {
    "duration": 8,
    "start_time": "2024-06-11T07:04:23.958Z"
   },
   {
    "duration": 72,
    "start_time": "2024-06-11T07:04:23.969Z"
   },
   {
    "duration": 8,
    "start_time": "2024-06-11T07:04:24.044Z"
   },
   {
    "duration": 72,
    "start_time": "2024-06-11T07:04:24.055Z"
   },
   {
    "duration": 95,
    "start_time": "2024-06-11T07:04:24.130Z"
   },
   {
    "duration": 110,
    "start_time": "2024-06-11T07:04:24.231Z"
   },
   {
    "duration": 279,
    "start_time": "2024-06-11T07:04:24.344Z"
   },
   {
    "duration": 130,
    "start_time": "2024-06-11T07:04:24.631Z"
   },
   {
    "duration": 167,
    "start_time": "2024-06-11T07:04:24.765Z"
   },
   {
    "duration": 88,
    "start_time": "2024-06-11T07:04:24.935Z"
   },
   {
    "duration": 375,
    "start_time": "2024-06-11T07:04:25.026Z"
   },
   {
    "duration": 39,
    "start_time": "2024-06-11T07:06:21.048Z"
   },
   {
    "duration": 14,
    "start_time": "2024-06-11T07:06:39.738Z"
   },
   {
    "duration": 287,
    "start_time": "2024-06-11T07:06:42.379Z"
   },
   {
    "duration": 1264,
    "start_time": "2024-06-11T07:07:00.415Z"
   },
   {
    "duration": 25,
    "start_time": "2024-06-11T07:07:01.684Z"
   },
   {
    "duration": 35,
    "start_time": "2024-06-11T07:07:01.712Z"
   },
   {
    "duration": 76,
    "start_time": "2024-06-11T07:07:01.750Z"
   },
   {
    "duration": 10,
    "start_time": "2024-06-11T07:07:01.831Z"
   },
   {
    "duration": 6,
    "start_time": "2024-06-11T07:07:01.843Z"
   },
   {
    "duration": 14,
    "start_time": "2024-06-11T07:07:01.852Z"
   },
   {
    "duration": 8,
    "start_time": "2024-06-11T07:07:01.869Z"
   },
   {
    "duration": 13,
    "start_time": "2024-06-11T07:07:01.924Z"
   },
   {
    "duration": 41,
    "start_time": "2024-06-11T07:07:01.941Z"
   },
   {
    "duration": 41,
    "start_time": "2024-06-11T07:07:01.986Z"
   },
   {
    "duration": 98,
    "start_time": "2024-06-11T07:07:02.034Z"
   },
   {
    "duration": 113,
    "start_time": "2024-06-11T07:07:02.139Z"
   },
   {
    "duration": 101,
    "start_time": "2024-06-11T07:07:02.329Z"
   },
   {
    "duration": 184,
    "start_time": "2024-06-11T07:07:02.446Z"
   },
   {
    "duration": 107,
    "start_time": "2024-06-11T07:07:02.637Z"
   },
   {
    "duration": 13,
    "start_time": "2024-06-11T07:07:02.824Z"
   },
   {
    "duration": 473,
    "start_time": "2024-06-11T07:07:02.840Z"
   },
   {
    "duration": 96,
    "start_time": "2024-06-11T07:07:51.874Z"
   },
   {
    "duration": 38,
    "start_time": "2024-06-11T07:08:14.624Z"
   },
   {
    "duration": 305,
    "start_time": "2024-06-11T07:08:28.064Z"
   },
   {
    "duration": 7,
    "start_time": "2024-06-11T07:10:32.670Z"
   },
   {
    "duration": 14,
    "start_time": "2024-06-11T07:11:00.460Z"
   },
   {
    "duration": 302,
    "start_time": "2024-06-11T07:11:06.375Z"
   },
   {
    "duration": 1175,
    "start_time": "2024-06-11T07:11:21.492Z"
   },
   {
    "duration": 25,
    "start_time": "2024-06-11T07:11:22.671Z"
   },
   {
    "duration": 40,
    "start_time": "2024-06-11T07:11:22.699Z"
   },
   {
    "duration": 85,
    "start_time": "2024-06-11T07:11:22.741Z"
   },
   {
    "duration": 11,
    "start_time": "2024-06-11T07:11:22.830Z"
   },
   {
    "duration": 5,
    "start_time": "2024-06-11T07:11:22.844Z"
   },
   {
    "duration": 14,
    "start_time": "2024-06-11T07:11:22.853Z"
   },
   {
    "duration": 53,
    "start_time": "2024-06-11T07:11:22.870Z"
   },
   {
    "duration": 12,
    "start_time": "2024-06-11T07:11:22.927Z"
   },
   {
    "duration": 41,
    "start_time": "2024-06-11T07:11:22.943Z"
   },
   {
    "duration": 38,
    "start_time": "2024-06-11T07:11:22.987Z"
   },
   {
    "duration": 94,
    "start_time": "2024-06-11T07:11:23.029Z"
   },
   {
    "duration": 19,
    "start_time": "2024-06-11T07:11:23.125Z"
   },
   {
    "duration": 39,
    "start_time": "2024-06-11T07:11:23.225Z"
   },
   {
    "duration": 227,
    "start_time": "2024-06-11T07:11:23.267Z"
   },
   {
    "duration": 111,
    "start_time": "2024-06-11T07:11:23.524Z"
   },
   {
    "duration": 88,
    "start_time": "2024-06-11T07:11:23.638Z"
   },
   {
    "duration": 406,
    "start_time": "2024-06-11T07:11:23.730Z"
   },
   {
    "duration": 43,
    "start_time": "2024-06-11T07:19:14.090Z"
   },
   {
    "duration": 16,
    "start_time": "2024-06-11T07:19:22.393Z"
   },
   {
    "duration": 40,
    "start_time": "2024-06-11T07:19:53.561Z"
   },
   {
    "duration": 94,
    "start_time": "2024-06-11T07:20:38.360Z"
   },
   {
    "duration": 97,
    "start_time": "2024-06-11T07:20:44.531Z"
   },
   {
    "duration": 43,
    "start_time": "2024-06-11T07:21:15.854Z"
   },
   {
    "duration": 867,
    "start_time": "2024-06-11T07:21:54.637Z"
   },
   {
    "duration": 411,
    "start_time": "2024-06-11T07:23:13.791Z"
   },
   {
    "duration": 1247,
    "start_time": "2024-06-11T07:23:29.166Z"
   },
   {
    "duration": 29,
    "start_time": "2024-06-11T07:23:30.422Z"
   },
   {
    "duration": 27,
    "start_time": "2024-06-11T07:23:30.453Z"
   },
   {
    "duration": 79,
    "start_time": "2024-06-11T07:23:30.484Z"
   },
   {
    "duration": 12,
    "start_time": "2024-06-11T07:23:30.569Z"
   },
   {
    "duration": 5,
    "start_time": "2024-06-11T07:23:30.584Z"
   },
   {
    "duration": 41,
    "start_time": "2024-06-11T07:23:30.592Z"
   },
   {
    "duration": 8,
    "start_time": "2024-06-11T07:23:30.635Z"
   },
   {
    "duration": 9,
    "start_time": "2024-06-11T07:23:30.646Z"
   },
   {
    "duration": 75,
    "start_time": "2024-06-11T07:23:30.658Z"
   },
   {
    "duration": 9,
    "start_time": "2024-06-11T07:23:30.735Z"
   },
   {
    "duration": 81,
    "start_time": "2024-06-11T07:23:30.749Z"
   },
   {
    "duration": 91,
    "start_time": "2024-06-11T07:23:30.833Z"
   },
   {
    "duration": 115,
    "start_time": "2024-06-11T07:23:30.930Z"
   },
   {
    "duration": 232,
    "start_time": "2024-06-11T07:23:31.054Z"
   },
   {
    "duration": 115,
    "start_time": "2024-06-11T07:23:31.324Z"
   },
   {
    "duration": 80,
    "start_time": "2024-06-11T07:23:31.444Z"
   },
   {
    "duration": 469,
    "start_time": "2024-06-11T07:23:31.528Z"
   },
   {
    "duration": 1178,
    "start_time": "2024-06-11T07:24:40.094Z"
   },
   {
    "duration": 27,
    "start_time": "2024-06-11T07:24:41.277Z"
   },
   {
    "duration": 31,
    "start_time": "2024-06-11T07:24:41.322Z"
   },
   {
    "duration": 77,
    "start_time": "2024-06-11T07:24:41.356Z"
   },
   {
    "duration": 10,
    "start_time": "2024-06-11T07:24:41.437Z"
   },
   {
    "duration": 6,
    "start_time": "2024-06-11T07:24:41.451Z"
   },
   {
    "duration": 13,
    "start_time": "2024-06-11T07:24:41.460Z"
   },
   {
    "duration": 45,
    "start_time": "2024-06-11T07:24:41.478Z"
   },
   {
    "duration": 9,
    "start_time": "2024-06-11T07:24:41.525Z"
   },
   {
    "duration": 31,
    "start_time": "2024-06-11T07:24:41.537Z"
   },
   {
    "duration": 9,
    "start_time": "2024-06-11T07:24:41.571Z"
   },
   {
    "duration": 78,
    "start_time": "2024-06-11T07:24:41.583Z"
   },
   {
    "duration": 69,
    "start_time": "2024-06-11T07:24:41.664Z"
   },
   {
    "duration": 116,
    "start_time": "2024-06-11T07:24:41.738Z"
   },
   {
    "duration": 77,
    "start_time": "2024-06-11T07:24:41.857Z"
   },
   {
    "duration": 547,
    "start_time": "2024-06-11T07:24:41.942Z"
   },
   {
    "duration": 1178,
    "start_time": "2024-06-11T07:25:14.975Z"
   },
   {
    "duration": 26,
    "start_time": "2024-06-11T07:25:16.157Z"
   },
   {
    "duration": 43,
    "start_time": "2024-06-11T07:25:16.186Z"
   },
   {
    "duration": 92,
    "start_time": "2024-06-11T07:25:16.231Z"
   },
   {
    "duration": 14,
    "start_time": "2024-06-11T07:25:16.329Z"
   },
   {
    "duration": 6,
    "start_time": "2024-06-11T07:25:16.346Z"
   },
   {
    "duration": 14,
    "start_time": "2024-06-11T07:25:16.355Z"
   },
   {
    "duration": 51,
    "start_time": "2024-06-11T07:25:16.372Z"
   },
   {
    "duration": 10,
    "start_time": "2024-06-11T07:25:16.425Z"
   },
   {
    "duration": 33,
    "start_time": "2024-06-11T07:25:16.438Z"
   },
   {
    "duration": 9,
    "start_time": "2024-06-11T07:25:16.474Z"
   },
   {
    "duration": 81,
    "start_time": "2024-06-11T07:25:16.485Z"
   },
   {
    "duration": 78,
    "start_time": "2024-06-11T07:25:16.569Z"
   },
   {
    "duration": 104,
    "start_time": "2024-06-11T07:25:16.653Z"
   },
   {
    "duration": 227,
    "start_time": "2024-06-11T07:25:16.760Z"
   },
   {
    "duration": 111,
    "start_time": "2024-06-11T07:25:17.024Z"
   },
   {
    "duration": 85,
    "start_time": "2024-06-11T07:25:17.137Z"
   },
   {
    "duration": 460,
    "start_time": "2024-06-11T07:25:17.225Z"
   },
   {
    "duration": 6,
    "start_time": "2024-06-11T07:26:57.047Z"
   },
   {
    "duration": 5,
    "start_time": "2024-06-11T07:27:30.649Z"
   },
   {
    "duration": 400,
    "start_time": "2024-06-11T07:28:23.966Z"
   },
   {
    "duration": 3994,
    "start_time": "2024-06-11T07:29:11.067Z"
   },
   {
    "duration": 125,
    "start_time": "2024-06-11T07:29:17.066Z"
   },
   {
    "duration": 5,
    "start_time": "2024-06-11T07:30:17.079Z"
   },
   {
    "duration": 231,
    "start_time": "2024-06-11T07:30:20.939Z"
   },
   {
    "duration": 17,
    "start_time": "2024-06-11T08:25:44.014Z"
   },
   {
    "duration": 30,
    "start_time": "2024-06-11T08:26:06.393Z"
   },
   {
    "duration": 20,
    "start_time": "2024-06-11T08:26:13.481Z"
   },
   {
    "duration": 18,
    "start_time": "2024-06-11T08:32:44.446Z"
   },
   {
    "duration": 29,
    "start_time": "2024-06-11T08:35:34.720Z"
   },
   {
    "duration": 24,
    "start_time": "2024-06-11T08:35:41.624Z"
   },
   {
    "duration": 29,
    "start_time": "2024-06-11T08:35:47.083Z"
   },
   {
    "duration": 49,
    "start_time": "2024-06-11T10:29:22.982Z"
   },
   {
    "duration": 712,
    "start_time": "2024-06-11T10:37:18.514Z"
   },
   {
    "duration": 176,
    "start_time": "2024-06-11T10:38:36.749Z"
   },
   {
    "duration": 33,
    "start_time": "2024-06-11T10:39:37.962Z"
   },
   {
    "duration": 1039,
    "start_time": "2024-06-11T10:39:58.853Z"
   },
   {
    "duration": 76,
    "start_time": "2024-06-11T10:40:01.871Z"
   },
   {
    "duration": 28,
    "start_time": "2024-06-11T10:40:21.051Z"
   },
   {
    "duration": 1421,
    "start_time": "2024-06-11T10:40:48.441Z"
   },
   {
    "duration": 26,
    "start_time": "2024-06-11T10:40:49.866Z"
   },
   {
    "duration": 41,
    "start_time": "2024-06-11T10:40:49.894Z"
   },
   {
    "duration": 53,
    "start_time": "2024-06-11T10:40:49.940Z"
   },
   {
    "duration": 37,
    "start_time": "2024-06-11T10:40:49.996Z"
   },
   {
    "duration": 15,
    "start_time": "2024-06-11T10:40:50.036Z"
   },
   {
    "duration": 79,
    "start_time": "2024-06-11T10:40:50.055Z"
   },
   {
    "duration": 33,
    "start_time": "2024-06-11T10:40:50.136Z"
   },
   {
    "duration": 46,
    "start_time": "2024-06-11T10:42:24.834Z"
   },
   {
    "duration": 479,
    "start_time": "2024-06-11T10:42:53.959Z"
   },
   {
    "duration": 6,
    "start_time": "2024-06-11T10:43:21.148Z"
   },
   {
    "duration": 30,
    "start_time": "2024-06-11T10:43:26.281Z"
   },
   {
    "duration": 9,
    "start_time": "2024-06-11T10:43:54.162Z"
   },
   {
    "duration": 118,
    "start_time": "2024-06-11T10:43:58.106Z"
   },
   {
    "duration": 35,
    "start_time": "2024-06-11T10:44:38.534Z"
   },
   {
    "duration": 38,
    "start_time": "2024-06-11T10:45:16.551Z"
   },
   {
    "duration": 66,
    "start_time": "2024-06-11T10:45:53.485Z"
   },
   {
    "duration": 123,
    "start_time": "2024-06-11T10:46:32.698Z"
   },
   {
    "duration": 35,
    "start_time": "2024-06-11T10:47:00.140Z"
   },
   {
    "duration": 66,
    "start_time": "2024-06-11T10:47:29.138Z"
   },
   {
    "duration": 29,
    "start_time": "2024-06-11T10:48:03.914Z"
   },
   {
    "duration": 15,
    "start_time": "2024-06-11T10:57:55.715Z"
   },
   {
    "duration": 1335,
    "start_time": "2024-06-11T10:58:01.688Z"
   },
   {
    "duration": 2686,
    "start_time": "2024-06-11T10:59:44.772Z"
   },
   {
    "duration": 530,
    "start_time": "2024-06-11T11:00:10.768Z"
   },
   {
    "duration": 1320,
    "start_time": "2024-06-11T11:00:45.403Z"
   },
   {
    "duration": 34,
    "start_time": "2024-06-11T11:15:45.459Z"
   },
   {
    "duration": 443,
    "start_time": "2024-06-11T11:19:46.105Z"
   },
   {
    "duration": 32,
    "start_time": "2024-06-11T11:22:18.441Z"
   },
   {
    "duration": 29,
    "start_time": "2024-06-11T11:22:21.007Z"
   },
   {
    "duration": 456,
    "start_time": "2024-06-11T11:22:43.240Z"
   },
   {
    "duration": 443,
    "start_time": "2024-06-11T11:24:07.826Z"
   },
   {
    "duration": 11,
    "start_time": "2024-06-11T11:34:39.745Z"
   },
   {
    "duration": 435,
    "start_time": "2024-06-11T11:35:33.180Z"
   },
   {
    "duration": 1541,
    "start_time": "2024-06-11T11:35:49.427Z"
   },
   {
    "duration": 25,
    "start_time": "2024-06-11T11:35:50.972Z"
   },
   {
    "duration": 34,
    "start_time": "2024-06-11T11:35:51.000Z"
   },
   {
    "duration": 59,
    "start_time": "2024-06-11T11:35:51.039Z"
   },
   {
    "duration": 13,
    "start_time": "2024-06-11T11:35:51.124Z"
   },
   {
    "duration": 12,
    "start_time": "2024-06-11T11:35:51.140Z"
   },
   {
    "duration": 84,
    "start_time": "2024-06-11T11:35:51.156Z"
   },
   {
    "duration": 34,
    "start_time": "2024-06-11T11:35:51.243Z"
   },
   {
    "duration": 10,
    "start_time": "2024-06-11T11:35:51.280Z"
   },
   {
    "duration": 63,
    "start_time": "2024-06-11T11:35:51.297Z"
   },
   {
    "duration": 262,
    "start_time": "2024-06-11T11:35:51.365Z"
   },
   {
    "duration": 112,
    "start_time": "2024-06-11T11:35:51.630Z"
   },
   {
    "duration": 180,
    "start_time": "2024-06-11T11:35:51.745Z"
   },
   {
    "duration": 567,
    "start_time": "2024-06-11T11:35:51.928Z"
   },
   {
    "duration": 84,
    "start_time": "2024-06-11T11:35:52.498Z"
   },
   {
    "duration": 150,
    "start_time": "2024-06-11T11:35:52.586Z"
   },
   {
    "duration": 39,
    "start_time": "2024-06-11T11:35:52.739Z"
   },
   {
    "duration": 95,
    "start_time": "2024-06-11T11:35:52.781Z"
   },
   {
    "duration": 1333,
    "start_time": "2024-06-11T11:35:52.880Z"
   },
   {
    "duration": 2666,
    "start_time": "2024-06-11T11:35:54.224Z"
   },
   {
    "duration": 604,
    "start_time": "2024-06-11T11:35:56.894Z"
   },
   {
    "duration": 1393,
    "start_time": "2024-06-11T11:35:57.502Z"
   },
   {
    "duration": 479,
    "start_time": "2024-06-11T11:37:09.320Z"
   },
   {
    "duration": 441,
    "start_time": "2024-06-11T11:40:57.542Z"
   },
   {
    "duration": 1511,
    "start_time": "2024-06-11T11:49:36.467Z"
   },
   {
    "duration": 26,
    "start_time": "2024-06-11T11:49:37.982Z"
   },
   {
    "duration": 31,
    "start_time": "2024-06-11T11:49:38.011Z"
   },
   {
    "duration": 84,
    "start_time": "2024-06-11T11:49:38.046Z"
   },
   {
    "duration": 12,
    "start_time": "2024-06-11T11:49:38.135Z"
   },
   {
    "duration": 10,
    "start_time": "2024-06-11T11:49:38.150Z"
   },
   {
    "duration": 85,
    "start_time": "2024-06-11T11:49:38.163Z"
   },
   {
    "duration": 35,
    "start_time": "2024-06-11T11:49:38.252Z"
   },
   {
    "duration": 9,
    "start_time": "2024-06-11T11:49:38.290Z"
   },
   {
    "duration": 42,
    "start_time": "2024-06-11T11:49:38.322Z"
   },
   {
    "duration": 256,
    "start_time": "2024-06-11T11:49:38.367Z"
   },
   {
    "duration": 110,
    "start_time": "2024-06-11T11:49:38.626Z"
   },
   {
    "duration": 186,
    "start_time": "2024-06-11T11:49:38.739Z"
   },
   {
    "duration": 563,
    "start_time": "2024-06-11T11:49:38.932Z"
   },
   {
    "duration": 83,
    "start_time": "2024-06-11T11:49:39.499Z"
   },
   {
    "duration": 155,
    "start_time": "2024-06-11T11:49:39.586Z"
   },
   {
    "duration": 40,
    "start_time": "2024-06-11T11:49:39.745Z"
   },
   {
    "duration": 96,
    "start_time": "2024-06-11T11:49:39.789Z"
   },
   {
    "duration": 1351,
    "start_time": "2024-06-11T11:49:39.889Z"
   },
   {
    "duration": 2699,
    "start_time": "2024-06-11T11:49:41.243Z"
   },
   {
    "duration": 581,
    "start_time": "2024-06-11T11:49:43.944Z"
   },
   {
    "duration": 1308,
    "start_time": "2024-06-11T11:49:44.528Z"
   },
   {
    "duration": 46,
    "start_time": "2024-06-11T13:07:43.437Z"
   },
   {
    "duration": 42,
    "start_time": "2024-06-11T13:16:32.241Z"
   },
   {
    "duration": 469,
    "start_time": "2024-06-11T13:16:51.429Z"
   },
   {
    "duration": 550,
    "start_time": "2024-06-11T13:19:46.657Z"
   },
   {
    "duration": 35,
    "start_time": "2024-06-11T13:26:22.013Z"
   },
   {
    "duration": 443,
    "start_time": "2024-06-11T13:29:43.451Z"
   },
   {
    "duration": 544,
    "start_time": "2024-06-11T13:37:52.802Z"
   },
   {
    "duration": 1543,
    "start_time": "2024-06-11T13:38:34.767Z"
   },
   {
    "duration": 27,
    "start_time": "2024-06-11T13:38:36.313Z"
   },
   {
    "duration": 23,
    "start_time": "2024-06-11T13:38:36.343Z"
   },
   {
    "duration": 94,
    "start_time": "2024-06-11T13:38:36.373Z"
   },
   {
    "duration": 14,
    "start_time": "2024-06-11T13:38:36.471Z"
   },
   {
    "duration": 35,
    "start_time": "2024-06-11T13:38:36.488Z"
   },
   {
    "duration": 50,
    "start_time": "2024-06-11T13:38:36.527Z"
   },
   {
    "duration": 65,
    "start_time": "2024-06-11T13:38:36.580Z"
   },
   {
    "duration": 10,
    "start_time": "2024-06-11T13:38:36.648Z"
   },
   {
    "duration": 67,
    "start_time": "2024-06-11T13:38:36.666Z"
   },
   {
    "duration": 249,
    "start_time": "2024-06-11T13:38:36.736Z"
   },
   {
    "duration": 106,
    "start_time": "2024-06-11T13:38:37.027Z"
   },
   {
    "duration": 194,
    "start_time": "2024-06-11T13:38:37.136Z"
   },
   {
    "duration": 594,
    "start_time": "2024-06-11T13:38:37.332Z"
   },
   {
    "duration": 67,
    "start_time": "2024-06-11T13:38:37.930Z"
   },
   {
    "duration": 159,
    "start_time": "2024-06-11T13:38:38.000Z"
   },
   {
    "duration": 66,
    "start_time": "2024-06-11T13:38:38.163Z"
   },
   {
    "duration": 71,
    "start_time": "2024-06-11T13:38:38.233Z"
   },
   {
    "duration": 1405,
    "start_time": "2024-06-11T13:38:38.324Z"
   },
   {
    "duration": 2859,
    "start_time": "2024-06-11T13:38:39.733Z"
   },
   {
    "duration": 635,
    "start_time": "2024-06-11T13:38:42.595Z"
   },
   {
    "duration": 1433,
    "start_time": "2024-06-11T13:38:43.233Z"
   },
   {
    "duration": 5105,
    "start_time": "2024-06-11T17:12:16.384Z"
   },
   {
    "duration": 38,
    "start_time": "2024-06-11T17:12:21.493Z"
   },
   {
    "duration": 22,
    "start_time": "2024-06-11T17:12:21.534Z"
   },
   {
    "duration": 53,
    "start_time": "2024-06-11T17:12:21.568Z"
   },
   {
    "duration": 9,
    "start_time": "2024-06-11T17:12:21.626Z"
   },
   {
    "duration": 35,
    "start_time": "2024-06-11T17:12:21.638Z"
   },
   {
    "duration": 47,
    "start_time": "2024-06-11T17:12:21.676Z"
   },
   {
    "duration": 66,
    "start_time": "2024-06-11T17:12:21.726Z"
   },
   {
    "duration": 9,
    "start_time": "2024-06-11T17:12:21.795Z"
   },
   {
    "duration": 68,
    "start_time": "2024-06-11T17:12:21.807Z"
   },
   {
    "duration": 214,
    "start_time": "2024-06-11T17:12:21.878Z"
   },
   {
    "duration": 173,
    "start_time": "2024-06-11T17:12:22.095Z"
   },
   {
    "duration": 112,
    "start_time": "2024-06-11T17:12:22.270Z"
   },
   {
    "duration": 546,
    "start_time": "2024-06-11T17:12:22.387Z"
   },
   {
    "duration": 77,
    "start_time": "2024-06-11T17:12:22.935Z"
   },
   {
    "duration": 132,
    "start_time": "2024-06-11T17:12:23.015Z"
   },
   {
    "duration": 39,
    "start_time": "2024-06-11T17:12:23.150Z"
   },
   {
    "duration": 81,
    "start_time": "2024-06-11T17:12:23.192Z"
   },
   {
    "duration": 1304,
    "start_time": "2024-06-11T17:12:23.276Z"
   },
   {
    "duration": 2776,
    "start_time": "2024-06-11T17:12:24.584Z"
   },
   {
    "duration": 590,
    "start_time": "2024-06-11T17:12:27.371Z"
   },
   {
    "duration": 1362,
    "start_time": "2024-06-11T17:12:27.971Z"
   },
   {
    "duration": 409,
    "start_time": "2024-06-11T17:27:31.601Z"
   },
   {
    "duration": 1390,
    "start_time": "2024-06-11T17:27:48.390Z"
   },
   {
    "duration": 25,
    "start_time": "2024-06-11T17:27:49.784Z"
   },
   {
    "duration": 22,
    "start_time": "2024-06-11T17:27:49.813Z"
   },
   {
    "duration": 73,
    "start_time": "2024-06-11T17:27:49.841Z"
   },
   {
    "duration": 11,
    "start_time": "2024-06-11T17:27:49.916Z"
   },
   {
    "duration": 41,
    "start_time": "2024-06-11T17:27:49.929Z"
   },
   {
    "duration": 46,
    "start_time": "2024-06-11T17:27:49.973Z"
   },
   {
    "duration": 51,
    "start_time": "2024-06-11T17:27:50.021Z"
   },
   {
    "duration": 9,
    "start_time": "2024-06-11T17:27:50.074Z"
   },
   {
    "duration": 79,
    "start_time": "2024-06-11T17:27:50.089Z"
   },
   {
    "duration": 198,
    "start_time": "2024-06-11T17:27:50.171Z"
   },
   {
    "duration": 108,
    "start_time": "2024-06-11T17:27:50.372Z"
   },
   {
    "duration": 192,
    "start_time": "2024-06-11T17:27:50.486Z"
   },
   {
    "duration": 522,
    "start_time": "2024-06-11T17:27:50.686Z"
   },
   {
    "duration": 75,
    "start_time": "2024-06-11T17:27:51.211Z"
   },
   {
    "duration": 128,
    "start_time": "2024-06-11T17:27:51.289Z"
   },
   {
    "duration": 48,
    "start_time": "2024-06-11T17:27:51.420Z"
   },
   {
    "duration": 66,
    "start_time": "2024-06-11T17:27:51.471Z"
   },
   {
    "duration": 1317,
    "start_time": "2024-06-11T17:27:51.540Z"
   },
   {
    "duration": 2602,
    "start_time": "2024-06-11T17:27:52.860Z"
   },
   {
    "duration": 564,
    "start_time": "2024-06-11T17:27:55.469Z"
   },
   {
    "duration": 1294,
    "start_time": "2024-06-11T17:27:56.037Z"
   },
   {
    "duration": 398,
    "start_time": "2024-06-11T17:37:16.007Z"
   },
   {
    "duration": 193,
    "start_time": "2024-06-11T17:37:32.586Z"
   },
   {
    "duration": 697,
    "start_time": "2024-06-11T17:37:44.058Z"
   },
   {
    "duration": 174,
    "start_time": "2024-06-11T17:38:06.409Z"
   },
   {
    "duration": 432,
    "start_time": "2024-06-11T17:38:23.358Z"
   },
   {
    "duration": 703,
    "start_time": "2024-06-11T17:40:09.679Z"
   },
   {
    "duration": 340,
    "start_time": "2024-06-11T17:40:31.578Z"
   },
   {
    "duration": 247,
    "start_time": "2024-06-11T17:40:36.744Z"
   },
   {
    "duration": 209,
    "start_time": "2024-06-11T17:40:44.923Z"
   },
   {
    "duration": 239,
    "start_time": "2024-06-11T17:41:20.268Z"
   },
   {
    "duration": 218,
    "start_time": "2024-06-11T17:41:29.890Z"
   },
   {
    "duration": 175,
    "start_time": "2024-06-11T17:41:36.923Z"
   },
   {
    "duration": 220,
    "start_time": "2024-06-11T17:41:43.074Z"
   },
   {
    "duration": 150,
    "start_time": "2024-06-11T17:41:49.821Z"
   },
   {
    "duration": 177,
    "start_time": "2024-06-11T17:44:32.047Z"
   },
   {
    "duration": 295,
    "start_time": "2024-06-11T17:44:39.980Z"
   },
   {
    "duration": 305,
    "start_time": "2024-06-11T17:44:49.823Z"
   },
   {
    "duration": 410,
    "start_time": "2024-06-11T17:44:58.067Z"
   },
   {
    "duration": 385,
    "start_time": "2024-06-11T17:45:05.910Z"
   },
   {
    "duration": 387,
    "start_time": "2024-06-11T17:45:17.939Z"
   },
   {
    "duration": 371,
    "start_time": "2024-06-11T17:45:30.004Z"
   },
   {
    "duration": 410,
    "start_time": "2024-06-11T18:31:06.658Z"
   },
   {
    "duration": 33,
    "start_time": "2024-06-11T18:31:21.110Z"
   },
   {
    "duration": 42,
    "start_time": "2024-06-11T18:33:28.648Z"
   },
   {
    "duration": 345,
    "start_time": "2024-06-11T18:33:38.102Z"
   },
   {
    "duration": 359,
    "start_time": "2024-06-11T18:35:33.347Z"
   },
   {
    "duration": 1492,
    "start_time": "2024-06-11T18:35:55.326Z"
   },
   {
    "duration": 26,
    "start_time": "2024-06-11T18:35:56.822Z"
   },
   {
    "duration": 34,
    "start_time": "2024-06-11T18:35:56.851Z"
   },
   {
    "duration": 77,
    "start_time": "2024-06-11T18:35:56.891Z"
   },
   {
    "duration": 11,
    "start_time": "2024-06-11T18:35:56.971Z"
   },
   {
    "duration": 10,
    "start_time": "2024-06-11T18:35:56.985Z"
   },
   {
    "duration": 85,
    "start_time": "2024-06-11T18:35:56.998Z"
   },
   {
    "duration": 36,
    "start_time": "2024-06-11T18:35:57.086Z"
   },
   {
    "duration": 10,
    "start_time": "2024-06-11T18:35:57.125Z"
   },
   {
    "duration": 65,
    "start_time": "2024-06-11T18:35:57.143Z"
   },
   {
    "duration": 203,
    "start_time": "2024-06-11T18:35:57.268Z"
   },
   {
    "duration": 115,
    "start_time": "2024-06-11T18:35:57.481Z"
   },
   {
    "duration": 184,
    "start_time": "2024-06-11T18:35:57.609Z"
   },
   {
    "duration": 529,
    "start_time": "2024-06-11T18:35:57.804Z"
   },
   {
    "duration": 90,
    "start_time": "2024-06-11T18:35:58.337Z"
   },
   {
    "duration": 136,
    "start_time": "2024-06-11T18:35:58.432Z"
   },
   {
    "duration": 38,
    "start_time": "2024-06-11T18:35:58.572Z"
   },
   {
    "duration": 94,
    "start_time": "2024-06-11T18:35:58.613Z"
   },
   {
    "duration": 408,
    "start_time": "2024-06-11T18:35:58.710Z"
   },
   {
    "duration": 1367,
    "start_time": "2024-06-11T18:35:59.121Z"
   },
   {
    "duration": 2989,
    "start_time": "2024-06-11T18:36:00.493Z"
   },
   {
    "duration": 563,
    "start_time": "2024-06-11T18:36:03.485Z"
   },
   {
    "duration": 1374,
    "start_time": "2024-06-11T18:36:04.052Z"
   },
   {
    "duration": 6,
    "start_time": "2024-06-11T18:41:58.843Z"
   },
   {
    "duration": 442,
    "start_time": "2024-06-11T18:46:37.378Z"
   },
   {
    "duration": 1651,
    "start_time": "2024-06-11T18:47:03.678Z"
   },
   {
    "duration": 695,
    "start_time": "2024-06-11T19:03:32.901Z"
   },
   {
    "duration": 692,
    "start_time": "2024-06-11T19:18:53.936Z"
   },
   {
    "duration": 11,
    "start_time": "2024-06-11T19:23:09.338Z"
   },
   {
    "duration": 385,
    "start_time": "2024-06-11T19:23:41.710Z"
   },
   {
    "duration": 665,
    "start_time": "2024-06-11T19:24:09.082Z"
   },
   {
    "duration": 399,
    "start_time": "2024-06-11T19:24:28.495Z"
   },
   {
    "duration": 392,
    "start_time": "2024-06-11T19:24:42.237Z"
   },
   {
    "duration": 396,
    "start_time": "2024-06-11T19:26:48.045Z"
   },
   {
    "duration": 386,
    "start_time": "2024-06-11T19:28:52.083Z"
   },
   {
    "duration": 401,
    "start_time": "2024-06-11T19:36:38.867Z"
   },
   {
    "duration": 353,
    "start_time": "2024-06-11T19:36:42.680Z"
   },
   {
    "duration": 390,
    "start_time": "2024-06-11T19:36:46.531Z"
   },
   {
    "duration": 388,
    "start_time": "2024-06-11T19:36:58.904Z"
   },
   {
    "duration": 438,
    "start_time": "2024-06-11T19:37:57.770Z"
   },
   {
    "duration": 355,
    "start_time": "2024-06-11T19:39:01.150Z"
   },
   {
    "duration": 406,
    "start_time": "2024-06-11T20:55:04.207Z"
   },
   {
    "duration": 363,
    "start_time": "2024-06-11T20:55:10.417Z"
   },
   {
    "duration": 338,
    "start_time": "2024-06-11T20:55:26.309Z"
   },
   {
    "duration": 372,
    "start_time": "2024-06-11T20:55:51.523Z"
   },
   {
    "duration": 393,
    "start_time": "2024-06-11T20:55:57.443Z"
   },
   {
    "duration": 406,
    "start_time": "2024-06-11T20:56:02.302Z"
   },
   {
    "duration": 368,
    "start_time": "2024-06-11T20:56:06.616Z"
   },
   {
    "duration": 363,
    "start_time": "2024-06-11T20:56:10.536Z"
   },
   {
    "duration": 330,
    "start_time": "2024-06-11T20:56:17.548Z"
   },
   {
    "duration": 1582,
    "start_time": "2024-06-11T20:57:43.473Z"
   },
   {
    "duration": 413,
    "start_time": "2024-06-11T20:58:16.239Z"
   },
   {
    "duration": 391,
    "start_time": "2024-06-11T20:58:23.662Z"
   },
   {
    "duration": 1420,
    "start_time": "2024-06-11T21:02:12.015Z"
   },
   {
    "duration": 34,
    "start_time": "2024-06-11T21:02:13.439Z"
   },
   {
    "duration": 23,
    "start_time": "2024-06-11T21:02:13.475Z"
   },
   {
    "duration": 75,
    "start_time": "2024-06-11T21:02:13.502Z"
   },
   {
    "duration": 10,
    "start_time": "2024-06-11T21:02:13.580Z"
   },
   {
    "duration": 10,
    "start_time": "2024-06-11T21:02:13.593Z"
   },
   {
    "duration": 80,
    "start_time": "2024-06-11T21:02:13.606Z"
   },
   {
    "duration": 33,
    "start_time": "2024-06-11T21:02:13.689Z"
   },
   {
    "duration": 10,
    "start_time": "2024-06-11T21:02:13.724Z"
   },
   {
    "duration": 67,
    "start_time": "2024-06-11T21:02:13.739Z"
   },
   {
    "duration": 215,
    "start_time": "2024-06-11T21:02:13.812Z"
   },
   {
    "duration": 107,
    "start_time": "2024-06-11T21:02:14.070Z"
   },
   {
    "duration": 188,
    "start_time": "2024-06-11T21:02:14.180Z"
   },
   {
    "duration": 435,
    "start_time": "2024-06-11T21:02:14.371Z"
   },
   {
    "duration": 85,
    "start_time": "2024-06-11T21:02:14.809Z"
   },
   {
    "duration": 134,
    "start_time": "2024-06-11T21:02:14.897Z"
   },
   {
    "duration": 47,
    "start_time": "2024-06-11T21:02:15.035Z"
   },
   {
    "duration": 85,
    "start_time": "2024-06-11T21:02:15.084Z"
   },
   {
    "duration": 344,
    "start_time": "2024-06-11T21:02:15.172Z"
   },
   {
    "duration": 1337,
    "start_time": "2024-06-11T21:02:15.518Z"
   },
   {
    "duration": 2722,
    "start_time": "2024-06-11T21:02:16.858Z"
   },
   {
    "duration": 521,
    "start_time": "2024-06-11T21:02:19.583Z"
   },
   {
    "duration": 1320,
    "start_time": "2024-06-11T21:02:20.107Z"
   },
   {
    "duration": 399,
    "start_time": "2024-06-11T21:02:21.430Z"
   },
   {
    "duration": 5182,
    "start_time": "2024-06-11T21:26:54.574Z"
   },
   {
    "duration": 37,
    "start_time": "2024-06-11T21:26:59.759Z"
   },
   {
    "duration": 22,
    "start_time": "2024-06-11T21:26:59.799Z"
   },
   {
    "duration": 58,
    "start_time": "2024-06-11T21:27:03.535Z"
   },
   {
    "duration": 5,
    "start_time": "2024-06-11T21:29:22.608Z"
   },
   {
    "duration": 4,
    "start_time": "2024-06-11T21:30:26.421Z"
   },
   {
    "duration": 5184,
    "start_time": "2024-06-12T02:16:05.329Z"
   },
   {
    "duration": 39,
    "start_time": "2024-06-12T02:16:10.517Z"
   },
   {
    "duration": 22,
    "start_time": "2024-06-12T02:16:10.558Z"
   },
   {
    "duration": 65,
    "start_time": "2024-06-12T02:16:10.583Z"
   },
   {
    "duration": 10,
    "start_time": "2024-06-12T02:16:10.653Z"
   },
   {
    "duration": 6,
    "start_time": "2024-06-12T02:16:10.665Z"
   },
   {
    "duration": 80,
    "start_time": "2024-06-12T02:16:10.674Z"
   },
   {
    "duration": 33,
    "start_time": "2024-06-12T02:16:10.757Z"
   },
   {
    "duration": 8,
    "start_time": "2024-06-12T02:16:10.793Z"
   },
   {
    "duration": 32,
    "start_time": "2024-06-12T02:16:10.803Z"
   },
   {
    "duration": 96,
    "start_time": "2024-06-12T02:16:10.838Z"
   },
   {
    "duration": 158,
    "start_time": "2024-06-12T02:16:10.937Z"
   },
   {
    "duration": 108,
    "start_time": "2024-06-12T02:16:11.135Z"
   },
   {
    "duration": 188,
    "start_time": "2024-06-12T02:16:11.249Z"
   },
   {
    "duration": 435,
    "start_time": "2024-06-12T02:16:11.440Z"
   },
   {
    "duration": 81,
    "start_time": "2024-06-12T02:16:11.878Z"
   },
   {
    "duration": 136,
    "start_time": "2024-06-12T02:16:11.961Z"
   },
   {
    "duration": 46,
    "start_time": "2024-06-12T02:16:12.100Z"
   },
   {
    "duration": 66,
    "start_time": "2024-06-12T02:16:12.149Z"
   },
   {
    "duration": 363,
    "start_time": "2024-06-12T02:16:12.219Z"
   },
   {
    "duration": 1302,
    "start_time": "2024-06-12T02:16:12.586Z"
   },
   {
    "duration": 2906,
    "start_time": "2024-06-12T02:16:13.892Z"
   },
   {
    "duration": 558,
    "start_time": "2024-06-12T02:16:16.802Z"
   },
   {
    "duration": 1363,
    "start_time": "2024-06-12T02:16:17.363Z"
   },
   {
    "duration": 459,
    "start_time": "2024-06-12T02:16:18.736Z"
   },
   {
    "duration": 358,
    "start_time": "2024-06-12T02:17:08.010Z"
   },
   {
    "duration": 338,
    "start_time": "2024-06-12T02:18:12.786Z"
   },
   {
    "duration": 360,
    "start_time": "2024-06-12T02:19:16.834Z"
   },
   {
    "duration": 329,
    "start_time": "2024-06-12T02:19:23.316Z"
   },
   {
    "duration": 1416,
    "start_time": "2024-06-12T02:19:36.109Z"
   },
   {
    "duration": 25,
    "start_time": "2024-06-12T02:19:37.528Z"
   },
   {
    "duration": 21,
    "start_time": "2024-06-12T02:19:37.556Z"
   },
   {
    "duration": 86,
    "start_time": "2024-06-12T02:19:37.582Z"
   },
   {
    "duration": 14,
    "start_time": "2024-06-12T02:19:37.673Z"
   },
   {
    "duration": 7,
    "start_time": "2024-06-12T02:19:37.690Z"
   },
   {
    "duration": 71,
    "start_time": "2024-06-12T02:19:37.700Z"
   },
   {
    "duration": 32,
    "start_time": "2024-06-12T02:19:37.774Z"
   },
   {
    "duration": 26,
    "start_time": "2024-06-12T02:19:37.809Z"
   },
   {
    "duration": 9,
    "start_time": "2024-06-12T02:19:37.840Z"
   },
   {
    "duration": 85,
    "start_time": "2024-06-12T02:19:37.852Z"
   },
   {
    "duration": 194,
    "start_time": "2024-06-12T02:19:37.940Z"
   },
   {
    "duration": 114,
    "start_time": "2024-06-12T02:19:38.140Z"
   },
   {
    "duration": 183,
    "start_time": "2024-06-12T02:19:38.262Z"
   },
   {
    "duration": 451,
    "start_time": "2024-06-12T02:19:38.448Z"
   },
   {
    "duration": 77,
    "start_time": "2024-06-12T02:19:38.902Z"
   },
   {
    "duration": 131,
    "start_time": "2024-06-12T02:19:38.982Z"
   },
   {
    "duration": 46,
    "start_time": "2024-06-12T02:19:39.116Z"
   },
   {
    "duration": 79,
    "start_time": "2024-06-12T02:19:39.165Z"
   },
   {
    "duration": 377,
    "start_time": "2024-06-12T02:19:39.247Z"
   },
   {
    "duration": 1311,
    "start_time": "2024-06-12T02:19:39.627Z"
   },
   {
    "duration": 2676,
    "start_time": "2024-06-12T02:19:40.941Z"
   },
   {
    "duration": 530,
    "start_time": "2024-06-12T02:19:43.620Z"
   },
   {
    "duration": 1307,
    "start_time": "2024-06-12T02:19:44.153Z"
   },
   {
    "duration": 397,
    "start_time": "2024-06-12T02:19:45.463Z"
   },
   {
    "duration": 328,
    "start_time": "2024-06-12T02:21:05.101Z"
   },
   {
    "duration": 344,
    "start_time": "2024-06-12T02:21:16.001Z"
   },
   {
    "duration": 326,
    "start_time": "2024-06-12T02:22:06.872Z"
   },
   {
    "duration": 324,
    "start_time": "2024-06-12T02:22:17.958Z"
   },
   {
    "duration": 323,
    "start_time": "2024-06-12T02:22:24.324Z"
   },
   {
    "duration": 324,
    "start_time": "2024-06-12T02:22:30.872Z"
   },
   {
    "duration": 1508,
    "start_time": "2024-06-12T02:24:48.622Z"
   },
   {
    "duration": 26,
    "start_time": "2024-06-12T02:24:50.134Z"
   },
   {
    "duration": 21,
    "start_time": "2024-06-12T02:24:50.163Z"
   },
   {
    "duration": 81,
    "start_time": "2024-06-12T02:24:50.189Z"
   },
   {
    "duration": 10,
    "start_time": "2024-06-12T02:24:50.273Z"
   },
   {
    "duration": 6,
    "start_time": "2024-06-12T02:24:50.285Z"
   },
   {
    "duration": 72,
    "start_time": "2024-06-12T02:24:50.293Z"
   },
   {
    "duration": 33,
    "start_time": "2024-06-12T02:24:50.368Z"
   },
   {
    "duration": 8,
    "start_time": "2024-06-12T02:24:50.404Z"
   },
   {
    "duration": 9,
    "start_time": "2024-06-12T02:24:50.439Z"
   },
   {
    "duration": 82,
    "start_time": "2024-06-12T02:24:50.452Z"
   },
   {
    "duration": 197,
    "start_time": "2024-06-12T02:24:50.540Z"
   },
   {
    "duration": 103,
    "start_time": "2024-06-12T02:24:50.740Z"
   },
   {
    "duration": 194,
    "start_time": "2024-06-12T02:24:50.847Z"
   },
   {
    "duration": 429,
    "start_time": "2024-06-12T02:24:51.044Z"
   },
   {
    "duration": 80,
    "start_time": "2024-06-12T02:24:51.477Z"
   },
   {
    "duration": 124,
    "start_time": "2024-06-12T02:24:51.559Z"
   },
   {
    "duration": 49,
    "start_time": "2024-06-12T02:24:51.685Z"
   },
   {
    "duration": 66,
    "start_time": "2024-06-12T02:24:51.737Z"
   },
   {
    "duration": 364,
    "start_time": "2024-06-12T02:24:51.806Z"
   },
   {
    "duration": 1351,
    "start_time": "2024-06-12T02:24:52.173Z"
   },
   {
    "duration": 2709,
    "start_time": "2024-06-12T02:24:53.529Z"
   },
   {
    "duration": 523,
    "start_time": "2024-06-12T02:24:56.241Z"
   },
   {
    "duration": 1298,
    "start_time": "2024-06-12T02:24:56.768Z"
   },
   {
    "duration": 385,
    "start_time": "2024-06-12T02:24:58.070Z"
   },
   {
    "duration": 317,
    "start_time": "2024-06-12T02:25:34.352Z"
   },
   {
    "duration": 418,
    "start_time": "2024-06-12T02:26:30.820Z"
   },
   {
    "duration": 397,
    "start_time": "2024-06-12T02:26:45.067Z"
   },
   {
    "duration": 376,
    "start_time": "2024-06-12T02:26:57.852Z"
   },
   {
    "duration": 350,
    "start_time": "2024-06-12T02:27:41.390Z"
   },
   {
    "duration": 596,
    "start_time": "2024-06-12T02:27:56.587Z"
   },
   {
    "duration": 356,
    "start_time": "2024-06-12T02:28:26.652Z"
   },
   {
    "duration": 335,
    "start_time": "2024-06-12T02:28:32.661Z"
   },
   {
    "duration": 313,
    "start_time": "2024-06-12T02:28:38.201Z"
   },
   {
    "duration": 1494,
    "start_time": "2024-06-12T02:28:45.232Z"
   },
   {
    "duration": 41,
    "start_time": "2024-06-12T02:28:46.730Z"
   },
   {
    "duration": 24,
    "start_time": "2024-06-12T02:28:46.775Z"
   },
   {
    "duration": 72,
    "start_time": "2024-06-12T02:28:46.803Z"
   },
   {
    "duration": 10,
    "start_time": "2024-06-12T02:28:46.878Z"
   },
   {
    "duration": 5,
    "start_time": "2024-06-12T02:28:46.891Z"
   },
   {
    "duration": 73,
    "start_time": "2024-06-12T02:28:46.900Z"
   },
   {
    "duration": 35,
    "start_time": "2024-06-12T02:28:46.976Z"
   },
   {
    "duration": 26,
    "start_time": "2024-06-12T02:28:47.014Z"
   },
   {
    "duration": 9,
    "start_time": "2024-06-12T02:28:47.045Z"
   },
   {
    "duration": 78,
    "start_time": "2024-06-12T02:28:47.057Z"
   },
   {
    "duration": 157,
    "start_time": "2024-06-12T02:28:47.140Z"
   },
   {
    "duration": 110,
    "start_time": "2024-06-12T02:28:47.336Z"
   },
   {
    "duration": 189,
    "start_time": "2024-06-12T02:28:47.449Z"
   },
   {
    "duration": 437,
    "start_time": "2024-06-12T02:28:47.641Z"
   },
   {
    "duration": 82,
    "start_time": "2024-06-12T02:28:48.080Z"
   },
   {
    "duration": 128,
    "start_time": "2024-06-12T02:28:48.165Z"
   },
   {
    "duration": 47,
    "start_time": "2024-06-12T02:28:48.296Z"
   },
   {
    "duration": 65,
    "start_time": "2024-06-12T02:28:48.346Z"
   },
   {
    "duration": 360,
    "start_time": "2024-06-12T02:28:48.414Z"
   },
   {
    "duration": 1337,
    "start_time": "2024-06-12T02:28:48.777Z"
   },
   {
    "duration": 2682,
    "start_time": "2024-06-12T02:28:50.118Z"
   },
   {
    "duration": 535,
    "start_time": "2024-06-12T02:28:52.803Z"
   },
   {
    "duration": 1323,
    "start_time": "2024-06-12T02:28:53.341Z"
   },
   {
    "duration": 388,
    "start_time": "2024-06-12T02:28:54.667Z"
   },
   {
    "duration": 339,
    "start_time": "2024-06-12T02:28:55.058Z"
   },
   {
    "duration": 1452,
    "start_time": "2024-06-12T02:31:24.044Z"
   },
   {
    "duration": 34,
    "start_time": "2024-06-12T02:31:25.500Z"
   },
   {
    "duration": 22,
    "start_time": "2024-06-12T02:31:25.537Z"
   },
   {
    "duration": 72,
    "start_time": "2024-06-12T02:31:25.562Z"
   },
   {
    "duration": 9,
    "start_time": "2024-06-12T02:31:25.640Z"
   },
   {
    "duration": 5,
    "start_time": "2024-06-12T02:31:25.652Z"
   },
   {
    "duration": 76,
    "start_time": "2024-06-12T02:31:25.661Z"
   },
   {
    "duration": 33,
    "start_time": "2024-06-12T02:31:25.740Z"
   },
   {
    "duration": 8,
    "start_time": "2024-06-12T02:31:25.776Z"
   },
   {
    "duration": 8,
    "start_time": "2024-06-12T02:31:25.788Z"
   },
   {
    "duration": 71,
    "start_time": "2024-06-12T02:31:25.800Z"
   },
   {
    "duration": 213,
    "start_time": "2024-06-12T02:31:25.875Z"
   },
   {
    "duration": 156,
    "start_time": "2024-06-12T02:31:26.091Z"
   },
   {
    "duration": 194,
    "start_time": "2024-06-12T02:31:26.257Z"
   },
   {
    "duration": 509,
    "start_time": "2024-06-12T02:31:26.455Z"
   },
   {
    "duration": 77,
    "start_time": "2024-06-12T02:31:26.967Z"
   },
   {
    "duration": 128,
    "start_time": "2024-06-12T02:31:27.046Z"
   },
   {
    "duration": 32,
    "start_time": "2024-06-12T02:31:27.177Z"
   },
   {
    "duration": 82,
    "start_time": "2024-06-12T02:31:27.212Z"
   },
   {
    "duration": 367,
    "start_time": "2024-06-12T02:31:27.297Z"
   },
   {
    "duration": 1322,
    "start_time": "2024-06-12T02:31:27.667Z"
   },
   {
    "duration": 2636,
    "start_time": "2024-06-12T02:31:28.992Z"
   },
   {
    "duration": 579,
    "start_time": "2024-06-12T02:31:31.630Z"
   },
   {
    "duration": 1311,
    "start_time": "2024-06-12T02:31:32.212Z"
   },
   {
    "duration": 386,
    "start_time": "2024-06-12T02:31:33.527Z"
   },
   {
    "duration": 1433,
    "start_time": "2024-06-12T02:32:12.440Z"
   },
   {
    "duration": 24,
    "start_time": "2024-06-12T02:32:13.877Z"
   },
   {
    "duration": 40,
    "start_time": "2024-06-12T02:32:13.904Z"
   },
   {
    "duration": 53,
    "start_time": "2024-06-12T02:32:13.948Z"
   },
   {
    "duration": 35,
    "start_time": "2024-06-12T02:32:14.004Z"
   },
   {
    "duration": 5,
    "start_time": "2024-06-12T02:32:14.042Z"
   },
   {
    "duration": 46,
    "start_time": "2024-06-12T02:32:14.050Z"
   },
   {
    "duration": 60,
    "start_time": "2024-06-12T02:32:14.099Z"
   },
   {
    "duration": 10,
    "start_time": "2024-06-12T02:32:14.161Z"
   },
   {
    "duration": 9,
    "start_time": "2024-06-12T02:32:14.177Z"
   },
   {
    "duration": 71,
    "start_time": "2024-06-12T02:32:14.189Z"
   },
   {
    "duration": 228,
    "start_time": "2024-06-12T02:32:14.263Z"
   },
   {
    "duration": 148,
    "start_time": "2024-06-12T02:32:14.493Z"
   },
   {
    "duration": 113,
    "start_time": "2024-06-12T02:32:14.643Z"
   },
   {
    "duration": 436,
    "start_time": "2024-06-12T02:32:14.759Z"
   },
   {
    "duration": 58,
    "start_time": "2024-06-12T02:32:15.198Z"
   },
   {
    "duration": 215,
    "start_time": "2024-06-12T02:32:15.258Z"
   },
   {
    "duration": 85,
    "start_time": "2024-06-12T02:32:15.476Z"
   },
   {
    "duration": 170,
    "start_time": "2024-06-12T02:32:15.564Z"
   },
   {
    "duration": 917,
    "start_time": "2024-06-12T02:32:15.737Z"
   },
   {
    "duration": 2016,
    "start_time": "2024-06-12T02:32:16.658Z"
   },
   {
    "duration": 2713,
    "start_time": "2024-06-12T02:32:18.678Z"
   },
   {
    "duration": 511,
    "start_time": "2024-06-12T02:32:21.394Z"
   },
   {
    "duration": 1310,
    "start_time": "2024-06-12T02:32:21.908Z"
   },
   {
    "duration": 419,
    "start_time": "2024-06-12T02:32:23.222Z"
   },
   {
    "duration": 36,
    "start_time": "2024-06-12T02:32:42.386Z"
   },
   {
    "duration": 1408,
    "start_time": "2024-06-12T02:32:53.468Z"
   },
   {
    "duration": 24,
    "start_time": "2024-06-12T02:32:54.879Z"
   },
   {
    "duration": 36,
    "start_time": "2024-06-12T02:32:54.906Z"
   },
   {
    "duration": 52,
    "start_time": "2024-06-12T02:32:54.945Z"
   },
   {
    "duration": 32,
    "start_time": "2024-06-12T02:32:55.003Z"
   },
   {
    "duration": 5,
    "start_time": "2024-06-12T02:32:55.039Z"
   },
   {
    "duration": 45,
    "start_time": "2024-06-12T02:32:55.047Z"
   },
   {
    "duration": 63,
    "start_time": "2024-06-12T02:32:55.095Z"
   },
   {
    "duration": 10,
    "start_time": "2024-06-12T02:32:55.161Z"
   },
   {
    "duration": 9,
    "start_time": "2024-06-12T02:32:55.174Z"
   },
   {
    "duration": 68,
    "start_time": "2024-06-12T02:32:55.187Z"
   },
   {
    "duration": 222,
    "start_time": "2024-06-12T02:32:55.257Z"
   },
   {
    "duration": 155,
    "start_time": "2024-06-12T02:32:55.482Z"
   },
   {
    "duration": 112,
    "start_time": "2024-06-12T02:32:55.644Z"
   },
   {
    "duration": 436,
    "start_time": "2024-06-12T02:32:55.759Z"
   },
   {
    "duration": 60,
    "start_time": "2024-06-12T02:32:56.198Z"
   },
   {
    "duration": 137,
    "start_time": "2024-06-12T02:32:56.261Z"
   },
   {
    "duration": 47,
    "start_time": "2024-06-12T02:32:56.401Z"
   },
   {
    "duration": 83,
    "start_time": "2024-06-12T02:32:56.452Z"
   },
   {
    "duration": 349,
    "start_time": "2024-06-12T02:32:56.539Z"
   },
   {
    "duration": 1317,
    "start_time": "2024-06-12T02:32:56.891Z"
   },
   {
    "duration": 2636,
    "start_time": "2024-06-12T02:32:58.211Z"
   },
   {
    "duration": 592,
    "start_time": "2024-06-12T02:33:00.851Z"
   },
   {
    "duration": 1372,
    "start_time": "2024-06-12T02:33:01.446Z"
   },
   {
    "duration": 405,
    "start_time": "2024-06-12T02:33:02.821Z"
   },
   {
    "duration": 374,
    "start_time": "2024-06-12T02:53:12.538Z"
   },
   {
    "duration": 65,
    "start_time": "2024-06-12T02:53:21.245Z"
   },
   {
    "duration": 1430,
    "start_time": "2024-06-12T02:53:30.817Z"
   },
   {
    "duration": 25,
    "start_time": "2024-06-12T02:53:32.251Z"
   },
   {
    "duration": 22,
    "start_time": "2024-06-12T02:53:32.279Z"
   },
   {
    "duration": 76,
    "start_time": "2024-06-12T02:53:32.305Z"
   },
   {
    "duration": 11,
    "start_time": "2024-06-12T02:53:32.384Z"
   },
   {
    "duration": 5,
    "start_time": "2024-06-12T02:53:32.398Z"
   },
   {
    "duration": 46,
    "start_time": "2024-06-12T02:53:32.434Z"
   },
   {
    "duration": 56,
    "start_time": "2024-06-12T02:53:32.483Z"
   },
   {
    "duration": 9,
    "start_time": "2024-06-12T02:53:32.542Z"
   },
   {
    "duration": 10,
    "start_time": "2024-06-12T02:53:32.558Z"
   },
   {
    "duration": 74,
    "start_time": "2024-06-12T02:53:32.572Z"
   },
   {
    "duration": 237,
    "start_time": "2024-06-12T02:53:32.649Z"
   },
   {
    "duration": 106,
    "start_time": "2024-06-12T02:53:32.941Z"
   },
   {
    "duration": 107,
    "start_time": "2024-06-12T02:53:33.050Z"
   },
   {
    "duration": 441,
    "start_time": "2024-06-12T02:53:33.236Z"
   },
   {
    "duration": 82,
    "start_time": "2024-06-12T02:53:33.680Z"
   },
   {
    "duration": 128,
    "start_time": "2024-06-12T02:53:33.765Z"
   },
   {
    "duration": 47,
    "start_time": "2024-06-12T02:53:33.896Z"
   },
   {
    "duration": 66,
    "start_time": "2024-06-12T02:53:33.947Z"
   },
   {
    "duration": 412,
    "start_time": "2024-06-12T02:53:34.035Z"
   },
   {
    "duration": 1310,
    "start_time": "2024-06-12T02:53:34.450Z"
   },
   {
    "duration": 2721,
    "start_time": "2024-06-12T02:53:35.762Z"
   },
   {
    "duration": 517,
    "start_time": "2024-06-12T02:53:38.486Z"
   },
   {
    "duration": 1321,
    "start_time": "2024-06-12T02:53:39.006Z"
   },
   {
    "duration": 389,
    "start_time": "2024-06-12T02:53:40.336Z"
   },
   {
    "duration": 7,
    "start_time": "2024-06-12T03:21:53.274Z"
   },
   {
    "duration": 66,
    "start_time": "2024-06-12T03:26:42.842Z"
   },
   {
    "duration": 452,
    "start_time": "2024-06-12T03:30:30.282Z"
   },
   {
    "duration": 425,
    "start_time": "2024-06-12T03:31:28.002Z"
   },
   {
    "duration": 460,
    "start_time": "2024-06-12T03:33:06.608Z"
   },
   {
    "duration": 384,
    "start_time": "2024-06-12T03:33:43.805Z"
   },
   {
    "duration": 455,
    "start_time": "2024-06-12T03:34:18.928Z"
   },
   {
    "duration": 446,
    "start_time": "2024-06-12T03:35:32.233Z"
   },
   {
    "duration": 504,
    "start_time": "2024-06-12T03:37:01.330Z"
   },
   {
    "duration": 449,
    "start_time": "2024-06-12T03:38:19.017Z"
   },
   {
    "duration": 6,
    "start_time": "2024-06-12T03:58:33.214Z"
   },
   {
    "duration": 6,
    "start_time": "2024-06-12T04:01:03.352Z"
   },
   {
    "duration": 36,
    "start_time": "2024-06-12T04:44:23.278Z"
   },
   {
    "duration": 2571,
    "start_time": "2024-06-12T04:44:53.540Z"
   },
   {
    "duration": 466,
    "start_time": "2024-06-12T04:56:08.379Z"
   },
   {
    "duration": 1423,
    "start_time": "2024-06-12T04:56:32.866Z"
   },
   {
    "duration": 26,
    "start_time": "2024-06-12T04:56:34.293Z"
   },
   {
    "duration": 29,
    "start_time": "2024-06-12T04:56:34.322Z"
   },
   {
    "duration": 53,
    "start_time": "2024-06-12T04:56:34.356Z"
   },
   {
    "duration": 10,
    "start_time": "2024-06-12T04:56:34.434Z"
   },
   {
    "duration": 6,
    "start_time": "2024-06-12T04:56:34.447Z"
   },
   {
    "duration": 46,
    "start_time": "2024-06-12T04:56:34.455Z"
   },
   {
    "duration": 62,
    "start_time": "2024-06-12T04:56:34.504Z"
   },
   {
    "duration": 8,
    "start_time": "2024-06-12T04:56:34.568Z"
   },
   {
    "duration": 9,
    "start_time": "2024-06-12T04:56:34.582Z"
   },
   {
    "duration": 79,
    "start_time": "2024-06-12T04:56:34.593Z"
   },
   {
    "duration": 216,
    "start_time": "2024-06-12T04:56:34.675Z"
   },
   {
    "duration": 147,
    "start_time": "2024-06-12T04:56:34.894Z"
   },
   {
    "duration": 110,
    "start_time": "2024-06-12T04:56:35.043Z"
   },
   {
    "duration": 583,
    "start_time": "2024-06-12T04:56:35.155Z"
   },
   {
    "duration": 65,
    "start_time": "2024-06-12T04:56:35.742Z"
   },
   {
    "duration": 143,
    "start_time": "2024-06-12T04:56:35.810Z"
   },
   {
    "duration": 41,
    "start_time": "2024-06-12T04:56:35.956Z"
   },
   {
    "duration": 89,
    "start_time": "2024-06-12T04:56:36.000Z"
   },
   {
    "duration": 499,
    "start_time": "2024-06-12T04:56:36.092Z"
   },
   {
    "duration": 1318,
    "start_time": "2024-06-12T04:56:36.593Z"
   },
   {
    "duration": 2703,
    "start_time": "2024-06-12T04:56:37.914Z"
   },
   {
    "duration": 534,
    "start_time": "2024-06-12T04:56:40.621Z"
   },
   {
    "duration": 1298,
    "start_time": "2024-06-12T04:56:41.158Z"
   },
   {
    "duration": 475,
    "start_time": "2024-06-12T04:56:42.459Z"
   },
   {
    "duration": 465,
    "start_time": "2024-06-12T04:56:42.937Z"
   },
   {
    "duration": 1789,
    "start_time": "2024-06-12T06:12:48.021Z"
   },
   {
    "duration": 1394,
    "start_time": "2024-06-12T06:19:52.635Z"
   },
   {
    "duration": 200,
    "start_time": "2024-06-12T06:20:38.175Z"
   },
   {
    "duration": 193,
    "start_time": "2024-06-12T06:21:03.497Z"
   },
   {
    "duration": 1436,
    "start_time": "2024-06-12T06:21:13.323Z"
   },
   {
    "duration": 25,
    "start_time": "2024-06-12T06:21:14.762Z"
   },
   {
    "duration": 22,
    "start_time": "2024-06-12T06:21:14.789Z"
   },
   {
    "duration": 52,
    "start_time": "2024-06-12T06:21:14.833Z"
   },
   {
    "duration": 11,
    "start_time": "2024-06-12T06:21:14.888Z"
   },
   {
    "duration": 34,
    "start_time": "2024-06-12T06:21:14.902Z"
   },
   {
    "duration": 46,
    "start_time": "2024-06-12T06:21:14.939Z"
   },
   {
    "duration": 58,
    "start_time": "2024-06-12T06:21:14.988Z"
   },
   {
    "duration": 8,
    "start_time": "2024-06-12T06:21:15.049Z"
   },
   {
    "duration": 9,
    "start_time": "2024-06-12T06:21:15.063Z"
   },
   {
    "duration": 72,
    "start_time": "2024-06-12T06:21:15.075Z"
   },
   {
    "duration": 233,
    "start_time": "2024-06-12T06:21:15.149Z"
   },
   {
    "duration": 155,
    "start_time": "2024-06-12T06:21:15.385Z"
   },
   {
    "duration": 110,
    "start_time": "2024-06-12T06:21:15.544Z"
   },
   {
    "duration": 592,
    "start_time": "2024-06-12T06:21:15.657Z"
   },
   {
    "duration": 64,
    "start_time": "2024-06-12T06:21:16.253Z"
   },
   {
    "duration": 131,
    "start_time": "2024-06-12T06:21:16.335Z"
   },
   {
    "duration": 34,
    "start_time": "2024-06-12T06:21:16.469Z"
   },
   {
    "duration": 82,
    "start_time": "2024-06-12T06:21:16.506Z"
   },
   {
    "duration": 470,
    "start_time": "2024-06-12T06:21:16.592Z"
   },
   {
    "duration": 1314,
    "start_time": "2024-06-12T06:21:17.065Z"
   },
   {
    "duration": 2684,
    "start_time": "2024-06-12T06:21:18.382Z"
   },
   {
    "duration": 514,
    "start_time": "2024-06-12T06:21:21.070Z"
   },
   {
    "duration": 1284,
    "start_time": "2024-06-12T06:21:21.586Z"
   },
   {
    "duration": 479,
    "start_time": "2024-06-12T06:21:22.872Z"
   },
   {
    "duration": 205,
    "start_time": "2024-06-12T06:21:23.357Z"
   },
   {
    "duration": 134,
    "start_time": "2024-06-12T06:22:34.401Z"
   },
   {
    "duration": 80,
    "start_time": "2024-06-12T06:22:40.096Z"
   },
   {
    "duration": 16,
    "start_time": "2024-06-12T06:22:45.845Z"
   },
   {
    "duration": 78,
    "start_time": "2024-06-12T06:22:51.881Z"
   },
   {
    "duration": 130,
    "start_time": "2024-06-12T06:24:17.981Z"
   },
   {
    "duration": 129,
    "start_time": "2024-06-12T06:26:07.087Z"
   },
   {
    "duration": 1448,
    "start_time": "2024-06-12T08:42:47.448Z"
   },
   {
    "duration": 26,
    "start_time": "2024-06-12T08:42:48.899Z"
   },
   {
    "duration": 22,
    "start_time": "2024-06-12T08:42:48.935Z"
   },
   {
    "duration": 78,
    "start_time": "2024-06-12T08:42:48.959Z"
   },
   {
    "duration": 11,
    "start_time": "2024-06-12T08:42:49.042Z"
   },
   {
    "duration": 6,
    "start_time": "2024-06-12T08:42:49.055Z"
   },
   {
    "duration": 73,
    "start_time": "2024-06-12T08:42:49.064Z"
   },
   {
    "duration": 34,
    "start_time": "2024-06-12T08:42:49.139Z"
   },
   {
    "duration": 9,
    "start_time": "2024-06-12T08:42:49.175Z"
   },
   {
    "duration": 10,
    "start_time": "2024-06-12T08:42:49.186Z"
   },
   {
    "duration": 44,
    "start_time": "2024-06-12T08:42:49.233Z"
   },
   {
    "duration": 209,
    "start_time": "2024-06-12T08:42:49.280Z"
   },
   {
    "duration": 106,
    "start_time": "2024-06-12T08:42:49.534Z"
   },
   {
    "duration": 109,
    "start_time": "2024-06-12T08:42:49.647Z"
   },
   {
    "duration": 561,
    "start_time": "2024-06-12T08:42:49.758Z"
   },
   {
    "duration": 72,
    "start_time": "2024-06-12T08:42:50.322Z"
   },
   {
    "duration": 133,
    "start_time": "2024-06-12T08:42:50.397Z"
   },
   {
    "duration": 35,
    "start_time": "2024-06-12T08:42:50.534Z"
   },
   {
    "duration": 85,
    "start_time": "2024-06-12T08:42:50.572Z"
   },
   {
    "duration": 466,
    "start_time": "2024-06-12T08:42:50.660Z"
   },
   {
    "duration": 1292,
    "start_time": "2024-06-12T08:42:51.135Z"
   },
   {
    "duration": 2652,
    "start_time": "2024-06-12T08:42:52.433Z"
   },
   {
    "duration": 515,
    "start_time": "2024-06-12T08:42:55.088Z"
   },
   {
    "duration": 1313,
    "start_time": "2024-06-12T08:42:55.606Z"
   },
   {
    "duration": 471,
    "start_time": "2024-06-12T08:42:56.923Z"
   },
   {
    "duration": 141,
    "start_time": "2024-06-12T08:42:57.397Z"
   },
   {
    "duration": 5181,
    "start_time": "2024-07-31T01:43:02.512Z"
   },
   {
    "duration": 43,
    "start_time": "2024-07-31T01:43:13.639Z"
   },
   {
    "duration": 24,
    "start_time": "2024-07-31T01:43:16.755Z"
   },
   {
    "duration": 53,
    "start_time": "2024-07-31T01:43:20.120Z"
   },
   {
    "duration": 10,
    "start_time": "2024-07-31T01:43:25.411Z"
   },
   {
    "duration": 5,
    "start_time": "2024-07-31T01:43:29.131Z"
   },
   {
    "duration": 45,
    "start_time": "2024-07-31T01:43:33.903Z"
   },
   {
    "duration": 18,
    "start_time": "2024-07-31T01:43:57.052Z"
   },
   {
    "duration": 19,
    "start_time": "2024-07-31T01:53:50.724Z"
   },
   {
    "duration": 8,
    "start_time": "2024-07-31T02:24:02.183Z"
   },
   {
    "duration": 29,
    "start_time": "2024-07-31T02:24:04.126Z"
   },
   {
    "duration": 18,
    "start_time": "2024-07-31T02:24:06.166Z"
   },
   {
    "duration": 57,
    "start_time": "2024-07-31T02:24:08.690Z"
   },
   {
    "duration": 14,
    "start_time": "2024-07-31T02:24:12.327Z"
   },
   {
    "duration": 5,
    "start_time": "2024-07-31T02:24:15.155Z"
   },
   {
    "duration": 43,
    "start_time": "2024-07-31T02:24:19.249Z"
   },
   {
    "duration": 20,
    "start_time": "2024-07-31T02:24:49.749Z"
   },
   {
    "duration": 27,
    "start_time": "2024-07-31T02:25:58.723Z"
   }
  ],
  "kernelspec": {
   "display_name": "Python 3",
   "language": "python",
   "name": "python3"
  },
  "language_info": {
   "codemirror_mode": {
    "name": "ipython",
    "version": 3
   },
   "file_extension": ".py",
   "mimetype": "text/x-python",
   "name": "python",
   "nbconvert_exporter": "python",
   "pygments_lexer": "ipython3",
   "version": "3.13.1"
  },
  "toc": {
   "base_numbering": 1,
   "nav_menu": {},
   "number_sections": true,
   "sideBar": true,
   "skip_h1_title": true,
   "title_cell": "Table of Contents",
   "title_sidebar": "Contents",
   "toc_cell": false,
   "toc_position": {
    "height": "calc(100% - 180px)",
    "left": "10px",
    "top": "150px",
    "width": "349.528px"
   },
   "toc_section_display": true,
   "toc_window_display": true
  }
 },
 "nbformat": 4,
 "nbformat_minor": 2
}
